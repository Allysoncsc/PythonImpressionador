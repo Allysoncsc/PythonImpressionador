{
 "cells": [
  {
   "cell_type": "code",
   "execution_count": 1,
   "metadata": {},
   "outputs": [],
   "source": [
    "produtos = ['coca', 'pepsi', 'guarana', 'skol', 'brahma', 'agua', 'del valle', 'dolly', 'red bull', 'cachaça', 'vinho tinto', 'vodka', 'vinho branco', 'tequila', 'champagne', 'gin', 'guaracamp', 'matte', 'leite de castanha', 'leite', 'jurupinga', 'sprite', 'fanta']\n",
    "vendas = [1200, 300, 800, 1500, 1900, 2750, 400, 20, 23, 70, 90, 80, 1100, 999, 900, 880, 870, 50, 1111, 120, 300, 450, 800]\n",
    "top5 = ['agua', 'brahma', 'skol', 'coca', 'leite de castanha']"
   ]
  },
  {
   "cell_type": "code",
   "execution_count": 6,
   "metadata": {},
   "outputs": [
    {
     "name": "stdout",
     "output_type": "stream",
     "text": [
      "['skol', 'brahma', 'agua']\n",
      "['skol', 'brahma', 'agua']\n"
     ]
    }
   ],
   "source": [
    "import heapq\n",
    "\n",
    "aux = heapq.nlargest(3,vendas)\n",
    "top3 = []\n",
    "for i, venda in enumerate(vendas):\n",
    "  if venda in aux:\n",
    "    top3.append(produtos[i])\n",
    "\n",
    "top32 = [produtos[i] for i, venda in enumerate(vendas) if venda in aux ]\n",
    "\n",
    "print(top3)\n",
    "print(top32)\n",
    "\n",
    "# menores = heapq.nsmallest(3,vendas)\n",
    "# print(aux)"
   ]
  },
  {
   "cell_type": "code",
   "execution_count": 8,
   "metadata": {},
   "outputs": [
    {
     "name": "stdout",
     "output_type": "stream",
     "text": [
      "8461\n",
      "Top 5 representa 50.6%\n",
      "6150\n",
      "top 3 representa 36.8%\n"
     ]
    }
   ],
   "source": [
    "totaal_top5 = 0\n",
    "\n",
    "\n",
    "\n",
    "for i, produto in enumerate(produtos):\n",
    "  if produto in top5:\n",
    "    totaal_top5 += vendas[i]\n",
    "\n",
    "\n",
    "total_top3 = sum(vendas[i] for i, produto in enumerate(produtos) if produto in top3)\n",
    "\n",
    "\n",
    "print(totaal_top5)\n",
    "print(f\"Top 5 representa {totaal_top5/sum(vendas):0.1%}\")\n",
    "\n",
    "print(total_top3)\n",
    "print(f\"top 3 representa {total_top3/sum(vendas):0.1%}\")\n"
   ]
  }
 ],
 "metadata": {
  "kernelspec": {
   "display_name": "Python 3",
   "language": "python",
   "name": "python3"
  },
  "language_info": {
   "codemirror_mode": {
    "name": "ipython",
    "version": 3
   },
   "file_extension": ".py",
   "mimetype": "text/x-python",
   "name": "python",
   "nbconvert_exporter": "python",
   "pygments_lexer": "ipython3",
   "version": "3.11.5"
  },
  "orig_nbformat": 4
 },
 "nbformat": 4,
 "nbformat_minor": 2
}
