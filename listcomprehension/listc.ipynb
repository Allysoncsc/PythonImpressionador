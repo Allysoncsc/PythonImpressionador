{
 "cells": [
  {
   "cell_type": "code",
   "execution_count": 2,
   "metadata": {},
   "outputs": [
    {
     "name": "stdout",
     "output_type": "stream",
     "text": [
      "[30.0, 46.8, 90.0, 1650.0]\n",
      "[30.0, 46.8, 90.0, 1650.0]\n"
     ]
    }
   ],
   "source": [
    "preco_produto = [100,156,300,5500]\n",
    "produtos = ['Vinho','cafeteira','microondas','iphone']\n",
    "\n",
    "\n",
    "def calcular_imposto(preco, imposto):\n",
    "  return preco * imposto\n",
    "\n",
    "\n",
    "# impostos = []\n",
    "# for item in preco_produto:\n",
    "#   impostos.append(item * 0.3)\n",
    "impostos = [preco*0.3 for preco in preco_produto]\n",
    "ips = [calcular_imposto(preco,0.3) for preco in preco_produto]\n",
    "print(impostos)\n",
    "print(ips)\n"
   ]
  },
  {
   "cell_type": "code",
   "execution_count": 3,
   "metadata": {},
   "outputs": [
    {
     "name": "stdout",
     "output_type": "stream",
     "text": [
      "[[(100, 'Vinho'), (156, 'cafeteira'), (300, 'microondas'), (5500, 'iphone')]]\n"
     ]
    }
   ],
   "source": [
    "\n",
    "#zip para transformar em tupla e depois usa o list\n",
    "lista_aux = [list(zip(preco_produto,produtos))]\n",
    "#ordenar pelo primeiro item\n",
    "lista_aux.sort(reverse=True)\n",
    "print(lista_aux)"
   ]
  },
  {
   "cell_type": "code",
   "execution_count": null,
   "metadata": {},
   "outputs": [],
   "source": [
    "meta = 150\n",
    "produtos_acima_meta = []\n",
    "for i, produto in enumerate(produtos):\n",
    "  if preco_produto[i]> meta:\n",
    "    produtos_acima_meta.append(produto)\n",
    "\n",
    "\n",
    "\n",
    "produtos_acima_meta = [produto for i,produto in enumerate(produtos) if preco_produto[i>meta]]"
   ]
  },
  {
   "cell_type": "code",
   "execution_count": 9,
   "metadata": {},
   "outputs": [
    {
     "name": "stdout",
     "output_type": "stream",
     "text": [
      "[250, 500, 386, 186]\n",
      "[(186, 'mipad5'), (250, 'iphone'), (386, 'galaxya'), (500, 'Tv')]\n",
      "\n",
      "(500, 'Tv')\n"
     ]
    }
   ],
   "source": [
    "vendas_produtos = [('iphone',250,326),('Tv',500,458),('galaxya',386,482),('mipad5',186,397)]\n",
    "\n",
    "lista_2019 = []\n",
    "for produto, vendas2019,vendas2020 in vendas_produtos:\n",
    "  lista_2019.append(vendas2019)\n",
    "\n",
    "lista_19 = [(vendas2019,produto) for produto, vendas2019,vendas2020 in vendas_produtos]\n",
    "\n",
    "\n",
    "print(lista_2019)\n",
    "lista_19.sort()\n",
    "print(lista_19)\n",
    "print()\n",
    "print(max(lista_19))\n",
    "\n"
   ]
  }
 ],
 "metadata": {
  "kernelspec": {
   "display_name": "Python 3",
   "language": "python",
   "name": "python3"
  },
  "language_info": {
   "codemirror_mode": {
    "name": "ipython",
    "version": 3
   },
   "file_extension": ".py",
   "mimetype": "text/x-python",
   "name": "python",
   "nbconvert_exporter": "python",
   "pygments_lexer": "ipython3",
   "version": "3.11.5"
  },
  "orig_nbformat": 4
 },
 "nbformat": 4,
 "nbformat_minor": 2
}
