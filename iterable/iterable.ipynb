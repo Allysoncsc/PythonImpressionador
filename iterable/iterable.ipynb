{
 "cells": [
  {
   "cell_type": "markdown",
   "metadata": {},
   "source": [
    "# iterable é uma estrutara que armazena dados e pode ser percorrida"
   ]
  },
  {
   "cell_type": "code",
   "execution_count": null,
   "metadata": {},
   "outputs": [],
   "source": [
    "for i in range(1,10):\n",
    "  print(i)"
   ]
  },
  {
   "cell_type": "code",
   "execution_count": null,
   "metadata": {},
   "outputs": [],
   "source": [
    "# set é um tipo de lista que não aaaceita valores repetidos\n",
    "\n",
    "teste_listaa = ['arroz','feijao','maacarrao','atum','azeite']\n",
    "#transformando em lsita para tirar as duplicatas\n",
    "set_teste = set(teste_listaa)"
   ]
  }
 ],
 "metadata": {
  "language_info": {
   "name": "python"
  },
  "orig_nbformat": 4
 },
 "nbformat": 4,
 "nbformat_minor": 2
}
