{
 "cells": [
  {
   "cell_type": "code",
   "execution_count": 1,
   "metadata": {},
   "outputs": [],
   "source": [
    "meta = 1000\n",
    "\n",
    "vendas = {\n",
    "  'joao': 1500,\n",
    "  'julia': 2700,\n",
    "  'maria': 800,\n",
    "  'marle': 287,\n",
    "  'augusto': 500,\n",
    "  'neggeba': 978,\n",
    "  'clock': 1800,\n",
    "  'lina': 2300,\n",
    "  'jakiro': 1500,\n",
    "  'riki': 350,\n",
    "}"
   ]
  },
  {
   "cell_type": "code",
   "execution_count": 2,
   "metadata": {},
   "outputs": [],
   "source": [
    "def calculo_meta(meta, vendas):\n",
    "  bateram_meta = []\n",
    "  for vendedor in vendas:\n",
    "    if vendas[vendedor] >= meta:\n",
    "      bateram_meta.append(vendedor)\n",
    "  media = len(bateram_meta)/len(vendas)\n",
    "  return media, bateram_meta"
   ]
  },
  {
   "cell_type": "code",
   "execution_count": 3,
   "metadata": {},
   "outputs": [
    {
     "name": "stdout",
     "output_type": "stream",
     "text": [
      "0.5\n",
      "['joao', 'julia', 'clock', 'lina', 'jakiro']\n"
     ]
    }
   ],
   "source": [
    "p_meta, vendedores_acima_media = calculo_meta(meta, vendas)\n",
    "print(p_meta)\n",
    "print(vendedores_acima_media)"
   ]
  }
 ],
 "metadata": {
  "kernelspec": {
   "display_name": "Python 3",
   "language": "python",
   "name": "python3"
  },
  "language_info": {
   "codemirror_mode": {
    "name": "ipython",
    "version": 3
   },
   "file_extension": ".py",
   "mimetype": "text/x-python",
   "name": "python",
   "nbconvert_exporter": "python",
   "pygments_lexer": "ipython3",
   "version": "3.11.5"
  },
  "orig_nbformat": 4
 },
 "nbformat": 4,
 "nbformat_minor": 2
}
