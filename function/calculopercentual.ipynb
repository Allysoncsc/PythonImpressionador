{
 "cells": [
  {
   "cell_type": "code",
   "execution_count": null,
   "metadata": {},
   "outputs": [],
   "source": [
    "meta = 1000\n",
    "\n",
    "vendas = {\n",
    "  'joao': 1500,\n",
    "  'julia': 2700,\n",
    "  'maria': 800,\n",
    "  'marle': 287,\n",
    "  'augusto': 500,\n",
    "  'neggeba': 978,\n",
    "  'clock': 1800,\n",
    "  'lina': 2300,\n",
    "  'jakiro': 1500,\n",
    "  'riki': 350,\n",
    "}"
   ]
  }
 ],
 "metadata": {
  "language_info": {
   "name": "python"
  },
  "orig_nbformat": 4
 },
 "nbformat": 4,
 "nbformat_minor": 2
}
