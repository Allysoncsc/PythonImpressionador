{
 "cells": [
  {
   "cell_type": "code",
   "execution_count": null,
   "metadata": {},
   "outputs": [],
   "source": [
    "def descobrir_servidor(email):\n",
    "  try:\n",
    "    posicao_a = email.index('@')\n",
    "    servidor = email[posicao_a:]\n",
    "    if servidor in 'gmail':\n",
    "      return 'gmail'\n",
    "    elif 'hotmail' in servidor or 'outlook' in servidor or 'live' in servidor:\n",
    "      return 'hotmail'\n",
    "    elif 'yahoo' in servidor:\n",
    "      return 'yahoo' \n",
    "  except:\n",
    "    raise Exception('Email digigtado não tem @, diggite novamente.')"
   ]
  }
 ],
 "metadata": {
  "language_info": {
   "name": "python"
  },
  "orig_nbformat": 4
 },
 "nbformat": 4,
 "nbformat_minor": 2
}
