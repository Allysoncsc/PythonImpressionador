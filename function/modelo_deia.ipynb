{
 "cells": [
  {
   "cell_type": "markdown",
   "metadata": {},
   "source": [
    "### Aplicação\n",
    "\n",
    "- Data Science e Inteligência Artificial usa MUITO isso.\n",
    "\n",
    "    1. Quando criamos um modelo de previsão, precisamos treinar esse modelo e testar para ver se ele sendo um bom modelo ou não.\n",
    "    2. Temos então que pegar os nossos dados e dividir em 2 pedaços, uma lista de treino e uma lista de teste.\n",
    "    3. Vamos então pensar no exemplo de um modelo que tenta identificar qual o valor justo de um imóvel de acordo com o tamanho do imóvel. Temos então 2 listas:\n",
    "        - Lista 1: Preços Reais dos Imóveis\n",
    "        - Lista 2: Tamanho do imóvel.\n",
    "    4. Vamos criar então uma função que recebe 2 listas como entrada e que divide cada uma dessas listas em 2, um pedaço de treino e um pedaço de teste. O percentual que a lista vai ser dividida é definida por um fator (que também vai ser um parâmetro da função)"
   ]
  },
  {
   "cell_type": "code",
   "execution_count": null,
   "metadata": {},
   "outputs": [],
   "source": [
    "precos_imoveis = [2.17,1.54,1.45,1.94,2.37,2.3,1.79,1.8,2.25,1.37]\n",
    "tamanho_imoveis = [207,148,130,203,257,228,160,194,232,147]\n",
    "\n",
    "# usar 10% para teste o resto para treino\n",
    "fator = 0.1 \n",
    "i = int((1-fator) * len(precos_imoveis)) # 90%\n",
    "\n",
    "preco_treino = precos_imoveis[:i] #até o i\n",
    "preco_teste = precos_imoveis[i:] #ddo i para frente"
   ]
  },
  {
   "cell_type": "code",
   "execution_count": null,
   "metadata": {},
   "outputs": [],
   "source": [
    "def separar_listas(precos, tamanhos, fator = 0.1):\n",
    "  if len(preco)==len(tamanhos):\n",
    "    i = int((1-fator) * (len(precos)))\n",
    "    preco_treino = precos[:i] #até o i\n",
    "    preco_teste = precos[i:] #ddo i para frente\n",
    "    tamanho_treino = tamanhos[:i]\n",
    "    tamanho_teste = tamanhos[i:]\n",
    "    return preco_treino, preco_teste,tamanho_treino,tamanho_teste\n",
    "  else:\n",
    "    print('A lista de preços e tamanho são de tamanhos diferentes')\n",
    "    return\n",
    "  \n",
    "\n",
    "preco_treino, preco_teste,tamanho_treino,tamanho_teste = "
   ]
  }
 ],
 "metadata": {
  "language_info": {
   "name": "python"
  },
  "orig_nbformat": 4
 },
 "nbformat": 4,
 "nbformat_minor": 2
}
