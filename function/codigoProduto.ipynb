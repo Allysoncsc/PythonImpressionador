{
 "cells": [
  {
   "cell_type": "code",
   "execution_count": 3,
   "metadata": {},
   "outputs": [],
   "source": [
    "produtos = ['beb46275','TFA23962','TFA64715','TFA69555','TFA56743','BSA45510','TFA44968','CAR75448','CAR23596','CAR13490','BEB21365','BEB31623','BSA62419','BEB73344','TFA20079','BEB80694','BSA11769','BEB19495','TFA14792','TFA78043','BSA33484','BEB97471','BEB62362','TFA27311','TFA17715','BEB85146','BEB48898','BEB79496','CAR38417','TFA19947','TFA58799','CAR94811','BSA59251','BEB15385','BEB24213','BEB56262','BSA96915','CAR53454','BEB75073']\n",
    "\n",
    "\n",
    "def ehalcoolico(codigo):\n",
    "  codigo = codigo.upper()\n",
    "  if 'BEB' in codigo:\n",
    "    return True\n",
    "  else:\n",
    "    return False\n",
    "\n",
    "\n",
    "def ehDaCategoria(produto, codigo):\n",
    "  produto = produto.upper()\n",
    "  if codigo in produto:\n",
    "    return True\n",
    "  else:\n",
    "    return False\n",
    "\n",
    "\n"
   ]
  },
  {
   "cell_type": "code",
   "execution_count": 4,
   "metadata": {},
   "outputs": [
    {
     "name": "stdout",
     "output_type": "stream",
     "text": [
      "Enviar beb46275 para o setor de bebvidas alcoolicas\n",
      "Enviar BSA45510 para o setor de bebvidas não alcoolicas\n",
      "Enviar BEB21365 para o setor de bebvidas alcoolicas\n",
      "Enviar BEB31623 para o setor de bebvidas alcoolicas\n",
      "Enviar BSA62419 para o setor de bebvidas não alcoolicas\n",
      "Enviar BEB73344 para o setor de bebvidas alcoolicas\n",
      "Enviar BEB80694 para o setor de bebvidas alcoolicas\n",
      "Enviar BSA11769 para o setor de bebvidas não alcoolicas\n",
      "Enviar BEB19495 para o setor de bebvidas alcoolicas\n",
      "Enviar BSA33484 para o setor de bebvidas não alcoolicas\n",
      "Enviar BEB97471 para o setor de bebvidas alcoolicas\n",
      "Enviar BEB62362 para o setor de bebvidas alcoolicas\n",
      "Enviar BEB85146 para o setor de bebvidas alcoolicas\n",
      "Enviar BEB48898 para o setor de bebvidas alcoolicas\n",
      "Enviar BEB79496 para o setor de bebvidas alcoolicas\n",
      "Enviar BSA59251 para o setor de bebvidas não alcoolicas\n",
      "Enviar BEB15385 para o setor de bebvidas alcoolicas\n",
      "Enviar BEB24213 para o setor de bebvidas alcoolicas\n",
      "Enviar BEB56262 para o setor de bebvidas alcoolicas\n",
      "Enviar BSA96915 para o setor de bebvidas não alcoolicas\n",
      "Enviar BEB75073 para o setor de bebvidas alcoolicas\n"
     ]
    }
   ],
   "source": [
    "\n",
    "for produto in produtos:\n",
    "  if ehalcoolico(produto):\n",
    "    print(f'Enviar {produto} para o setor de bebvidas alcoolicas')\n",
    "  elif ehDaCategoria(produto, 'BSA'):\n",
    "    print(f'Enviar {produto} para o setor de bebvidas não alcoolicas')\n"
   ]
  }
 ],
 "metadata": {
  "kernelspec": {
   "display_name": "Python 3",
   "language": "python",
   "name": "python3"
  },
  "language_info": {
   "codemirror_mode": {
    "name": "ipython",
    "version": 3
   },
   "file_extension": ".py",
   "mimetype": "text/x-python",
   "name": "python",
   "nbconvert_exporter": "python",
   "pygments_lexer": "ipython3",
   "version": "3.11.5"
  },
  "orig_nbformat": 4
 },
 "nbformat": 4,
 "nbformat_minor": 2
}
