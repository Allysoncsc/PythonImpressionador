{
 "cells": [
  {
   "cell_type": "code",
   "execution_count": 4,
   "metadata": {},
   "outputs": [],
   "source": [
    "preco = 1500\n",
    "custo = 400\n",
    "lucro = 800"
   ]
  },
  {
   "cell_type": "code",
   "execution_count": 5,
   "metadata": {},
   "outputs": [],
   "source": [
    "def cargaTributaria(preco,custo,lucro):\n",
    "  imposto = preco - custo - lucro\n",
    "  return imposto / preco"
   ]
  },
  {
   "cell_type": "code",
   "execution_count": 6,
   "metadata": {},
   "outputs": [
    {
     "name": "stdout",
     "output_type": "stream",
     "text": [
      "a carga tributaria foi de 20.0%\n"
     ]
    }
   ],
   "source": [
    "print('a carga tributaria foi de {:.1%}'.format(cargaTributaria(preco,custo,lucro)))"
   ]
  },
  {
   "cell_type": "code",
   "execution_count": 2,
   "metadata": {},
   "outputs": [
    {
     "name": "stdout",
     "output_type": "stream",
     "text": [
      "['ABC12', 'ABC34', 'ABC37']\n"
     ]
    }
   ],
   "source": [
    "def padronizar_codigos(lista_codigos, padrao = 'm'):\n",
    "  for i,item in enumerate(lista_codigos):\n",
    "    item = item.replace('  ',' ')\n",
    "    item = item.strip()\n",
    "    if padrao == 'm':\n",
    "      item = item.casefold()\n",
    "    elif padrao == 'M':\n",
    "      item = item.upper()\n",
    "    lista_codigos[i] = item\n",
    "\n",
    "  return lista_codigos\n",
    "\n",
    "\n",
    "cod_produtos = ['  ABC12', 'abc34','Abc37']\n",
    "print(padronizar_codigos(cod_produtos,'M'))"
   ]
  },
  {
   "cell_type": "code",
   "execution_count": 3,
   "metadata": {},
   "outputs": [
    {
     "name": "stdout",
     "output_type": "stream",
     "text": [
      "['goku@ggmail.com', 'gohan@gmail.com']\n"
     ]
    }
   ],
   "source": [
    "def filtrar_lista_texto(lista, pedaco_texto):\n",
    "  lista_filtrada = []\n",
    "\n",
    "  for item in lista:\n",
    "    if pedaco_texto in item:\n",
    "      lista_filtrada.append(item)\n",
    "\n",
    "  return lista_filtrada\n",
    "\n",
    "lista_texto = ['goku@gmail.com', 'vegeta@hotmail.com', 'gohan@gmail.com','picolo@yaho.com']\n",
    "\n",
    "lista = filtrar_lista_texto(lista_texto,'gmail')\n",
    "print(lista)"
   ]
  }
 ],
 "metadata": {
  "kernelspec": {
   "display_name": "Python 3",
   "language": "python",
   "name": "python3"
  },
  "language_info": {
   "codemirror_mode": {
    "name": "ipython",
    "version": 3
   },
   "file_extension": ".py",
   "mimetype": "text/x-python",
   "name": "python",
   "nbconvert_exporter": "python",
   "pygments_lexer": "ipython3",
   "version": "3.11.5"
  },
  "orig_nbformat": 4
 },
 "nbformat": 4,
 "nbformat_minor": 2
}
