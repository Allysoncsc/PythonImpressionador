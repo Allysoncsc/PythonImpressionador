{
 "cells": [
  {
   "cell_type": "code",
   "execution_count": null,
   "metadata": {},
   "outputs": [],
   "source": [
    "def minha_soma(*numeros):\n",
    "  soma = 0\n",
    "  for numero in numeros:\n",
    "    soma += numero\n",
    "  return soma\n",
    "\n",
    "\n",
    "print(minha_soma(9,13,18,1,2,5,9,4,7))"
   ]
  },
  {
   "cell_type": "code",
   "execution_count": 4,
   "metadata": {},
   "outputs": [
    {
     "name": "stdout",
     "output_type": "stream",
     "text": [
      "850.0\n",
      "892.5\n"
     ]
    }
   ],
   "source": [
    "def preco_final(preco,**kwargs):\n",
    "  if 'desconto' in kwargs:\n",
    "    preco *= (1-kwargs['desconto'])\n",
    "  if 'garantia_extendida' in kwargs:\n",
    "    preco += kwargs['garantia_extendida']\n",
    "  if 'imposto' in kwargs:\n",
    "    preco *= (1+kwargs['imposto'])\n",
    "  return preco\n",
    "\n",
    "valor = preco_final(1000, desconto = 0.15)\n",
    "val = preco_final(1000, desconto = 0.15, imposto = 0.05)\n",
    "print(valor)\n",
    "print(val)"
   ]
  },
  {
   "cell_type": "code",
   "execution_count": null,
   "metadata": {},
   "outputs": [],
   "source": [
    "\n",
    "def listar_produtos(*listas):\n",
    "  lista_produtos = []\n",
    "  for lista in listas:\n",
    "    #percorrer dentro da lista\n",
    "    for produto, estoque in lista:\n",
    "      lista_produtos.append(produto)\n",
    "    #transforma em set para retirar a duplicidade e depois volta para lista\n",
    "    lista_produtos = set(lista_produtos)\n",
    "    lista_produtos = list(lista_produtos)"
   ]
  }
 ],
 "metadata": {
  "kernelspec": {
   "display_name": "Python 3",
   "language": "python",
   "name": "python3"
  },
  "language_info": {
   "codemirror_mode": {
    "name": "ipython",
    "version": 3
   },
   "file_extension": ".py",
   "mimetype": "text/x-python",
   "name": "python",
   "nbconvert_exporter": "python",
   "pygments_lexer": "ipython3",
   "version": "3.11.5"
  },
  "orig_nbformat": 4
 },
 "nbformat": 4,
 "nbformat_minor": 2
}
