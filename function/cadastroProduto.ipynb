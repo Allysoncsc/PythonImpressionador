{
 "cells": [
  {
   "cell_type": "code",
   "execution_count": 3,
   "metadata": {},
   "outputs": [],
   "source": [
    "def cadastrar_produto():\n",
    "  produto = input('Digite o nome do produto: ')\n",
    "  produto = produto.casefold()\n",
    "  #retirar os espaços\n",
    "  produto = produto.strip()\n",
    "  #print(f'{produto} cadastrado com sucesso')\n",
    "  return produto\n",
    "\n",
    "\n",
    "\n",
    "# arggumento é o que se passa dentro dos paranteses\n",
    "def soma_valores_carrinho(*args):\n",
    "  total = 0\n",
    "  for valor in args:\n",
    "    total += valor\n",
    "  return valor\n",
    "\n",
    "\n",
    "def par_impar(numero):\n",
    "  return numero % 2 == 0\n",
    "\n"
   ]
  },
  {
   "cell_type": "code",
   "execution_count": 4,
   "metadata": {},
   "outputs": [
    {
     "ename": "SyntaxError",
     "evalue": "invalid syntax (1657674195.py, line 1)",
     "output_type": "error",
     "traceback": [
      "\u001b[1;36m  Cell \u001b[1;32mIn[4], line 1\u001b[1;36m\u001b[0m\n\u001b[1;33m    for in range(3):\u001b[0m\n\u001b[1;37m        ^\u001b[0m\n\u001b[1;31mSyntaxError\u001b[0m\u001b[1;31m:\u001b[0m invalid syntax\n"
     ]
    }
   ],
   "source": [
    "'''\n",
    "for i in range(3):\n",
    "  cadastrar_produto()\n",
    "'''\n",
    "\n",
    "produto = cadastrar_produto()\n",
    "\n",
    "valor_carrinho = soma_valores_carrinho(60,70,65)\n",
    "\n",
    "print(valor_carrinho)"
   ]
  }
 ],
 "metadata": {
  "kernelspec": {
   "display_name": "Python 3",
   "language": "python",
   "name": "python3"
  },
  "language_info": {
   "codemirror_mode": {
    "name": "ipython",
    "version": 3
   },
   "file_extension": ".py",
   "mimetype": "text/x-python",
   "name": "python",
   "nbconvert_exporter": "python",
   "pygments_lexer": "ipython3",
   "version": "3.11.5"
  },
  "orig_nbformat": 4
 },
 "nbformat": 4,
 "nbformat_minor": 2
}
