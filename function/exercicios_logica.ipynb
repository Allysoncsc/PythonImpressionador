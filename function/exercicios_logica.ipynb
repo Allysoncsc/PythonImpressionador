{
 "cells": [
  {
   "cell_type": "markdown",
   "metadata": {},
   "source": [
    "#### 23. Faça um Programa para uma loja de tintas. O programa deverá pedir o tamanho em metros quadrados da área a ser pintada. Considere que a cobertura da tinta é de 1 litro para cada 6 metros quadrados e que a tinta é vendida em latas de 18 litros, que custam R\\\\$ 80,00 ou em galões de 3,6 litros, que custam R\\\\$ 25,00."
   ]
  },
  {
   "cell_type": "code",
   "execution_count": 3,
   "metadata": {},
   "outputs": [
    {
     "name": "stdout",
     "output_type": "stream",
     "text": [
      "Quantidade de latas  3\n",
      "Preço:  240\n"
     ]
    }
   ],
   "source": [
    "# calcular quantas latas e quanto custa comprar a tinta\n",
    "    # descobrir a area a ser pintada\n",
    "    # calcular quantos litros de tinta o cliente precisa (area / 6)\n",
    "    # quantas latas eu vou precisar para a quantidade de litros\n",
    "        # calcular quantas latas (litros / 18)\n",
    "        # se deu um número \"quebrado\" de latas\n",
    "            # adiciona 1 lata\n",
    "        # se não\n",
    "            # dê a quantidade de latas\n",
    "    # calcular o preço das latas (quantidade de latas * R$80)\n",
    "\n",
    "\n",
    "\n",
    "def pedir_area_usuario():\n",
    "  area = int(input('Digite a área a ser pintada (m²): '))\n",
    "  return area\n",
    "\n",
    "def calcular_litros(area):\n",
    "  litros = area / 6\n",
    "  return litros\n",
    "\n",
    "def calcular_qtd_latas(litros):\n",
    "  latas = litros / 18 \n",
    "  if latas % 2 != 0:\n",
    "    latas = int(latas) + 1\n",
    "  return latas\n",
    "\n",
    "def calcular_preco_latas(latas):\n",
    "  preco = latas * 80\n",
    "  return preco\n",
    "\n",
    "area = pedir_area_usuario()\n",
    "litros = calcular_litros(area)\n",
    "latas = calcular_qtd_latas(litros)\n",
    "preco = calcular_preco_latas(latas)\n",
    "\n",
    "print(\"Quantidade de latas \", latas)\n",
    "print(\"Preço: \", preco)"
   ]
  },
  {
   "cell_type": "markdown",
   "metadata": {},
   "source": [
    "##### 2. Comprar apenas galões de 3,6 litros: (apenas galoes inteiros)"
   ]
  },
  {
   "cell_type": "code",
   "execution_count": 4,
   "metadata": {},
   "outputs": [
    {
     "name": "stdout",
     "output_type": "stream",
     "text": [
      "Quantidade galões:  12\n",
      "Preço:  300\n"
     ]
    }
   ],
   "source": [
    "# calcular o preço e a quantidade de galoes para comprar\n",
    "    # saber a área do cliente\n",
    "area = int(input(\"Qual a área a ser pintada(m²): \"))\n",
    "    # calcular a quantidade de tinta (area / 6)\n",
    "litros_tinta = area / 6\n",
    "    # calcular a quantidade de galoes (arredondando para cima) -> litros / 3,6\n",
    "        # verifico se a quantidade de galoes vai ser uma divisão inteira\n",
    "            # caso não seja:\n",
    "                # galoes vai ser a parte inteira da divisão + 1\n",
    "            # case seja:\n",
    "                # galoes vai ser a divisão de litros por 3,6\n",
    "                \n",
    "if litros_tinta % 3.6 > 0:\n",
    "  galoes_tintas = int(litros_tinta/3.6)+1\n",
    "else:\n",
    "  galoes_tintas = litros_tinta/3.6\n",
    "\n",
    "preco = galoes_tintas * 25\n",
    "\n",
    "print(\"Quantidade galões: \", galoes_tintas)\n",
    "print(\"Preço: \", preco)"
   ]
  },
  {
   "cell_type": "markdown",
   "metadata": {},
   "source": [
    "##### 3. Misturar latas e galões, de forma que o desperdício de tinta seja menor. Sempre arredonde os valores para cima, isto é, considere latas cheias."
   ]
  },
  {
   "cell_type": "markdown",
   "metadata": {},
   "source": [
    "O custo da lata é 80/18 = 4,44 R\\\\$/L\n",
    "\n",
    "O custo do galão é 25/3,6 = 6,94 R\\\\$/L\n",
    "\n",
    "A lata é mais econômica, então todas as latas inteiras que pudermos usar devemos comprar em latas. Se ficar faltando alguma coisa para completar devemos avaliar se é melhor comprar latas ou galões. Exemplo:\n",
    "\n",
    "Se queremos comprar 90 litros. 5 latas dão exatamente 90 litros. Então devemos comprar tudo em latas.\n",
    "\n",
    "Se queremos comprar 95 litros. 5 latas dão exatamente 90 litros. Então devemos comprar pelo menos 5 latas e avaliar o que falta, se estes últimos 5 litros valem mais apenas em latas ou galões.\n",
    "\n",
    "Para os 5 litros faltantes precisamos de 2 galões que custam 50 reais no total. Ou de uma lata que custa 80 reais no total. Portanto, neste caso vale mais a pena usar 2 galões.\n",
    "\n",
    "Se queremos comprar 107 litros. 5 latas dão exatamente 90 litros. Então devemos comprar pelo menos 5 latas e avaliar o que falta, se estes últimos 5 litros valem mais apenas em latas ou galões.\n",
    "\n",
    "Para os 17 litros faltantes precisamos de 5 galões que custam 125 reais no total. Ou de uma lata que custa 80 reais no total. Portanto, neste caso vale mais a pena usar uma lata.\n",
    "\n",
    "3 galões custam 75 reais, 4 galões custam 100 reais. Então, se for possível completar com até 3 galões escolhe-se galões. Qualquer quantidade maior que 3 galões, usa-se latas.\n",
    "\n",
    "Podemos ir ao exercício:"
   ]
  },
  {
   "cell_type": "code",
   "execution_count": null,
   "metadata": {},
   "outputs": [],
   "source": [
    "# calcular o menor preço possível de latas e galoes para pintar uma parede\n",
    "    # descobrir a área a ser pintada (pegar um input do usuário)\n",
    "galoes = 0\n",
    "latas = 0\n",
    "area = int(input(\"Qual a área a ser pintada (m²):\"))\n",
    "    # calcular quantos litros vamos precisar (area / 6)\n",
    "litros = area / 6\n",
    "    # calcular quantas latas e galoes vamos precisar\n",
    "        # calcular quantas latas inteiras vamos precisar\n",
    "latas = int(litros / 18)\n",
    "        # calcular quanto vai sobrar de litros de tinta\n",
    "litros_faltam = litros % 18\n",
    "        # se sobrar tinta:\n",
    "            # quantos galoes vamos precisar para essa sobra    \n",
    "if litros_faltam > 0:\n",
    "        if litros_faltam % 3.6 > 0:\n",
    "            galoes = int(litros_faltam / 3.6) + 1\n",
    "        else:\n",
    "            galoes = litros_faltam / 3.6\n",
    "            \n",
    "    # calcular o preço\n",
    "        # qtde_latas_inteiras * 80\n",
    "preco_latas = latas * 80\n",
    "        # se qtde_galoes * 25 > 80:\n",
    "            # preço anterior + 80\n",
    "        # caso contrario\n",
    "            # preco anterior + qtde_galoes * 25\n",
    "preco_galoes = galoes * 25\n",
    "if preco_galoes > 80:\n",
    "    latas = latas + 1\n",
    "    preco_latas = latas * 80\n",
    "    galoes = 0\n",
    "    preco_galoes = 0\n",
    "            \n",
    "preco_final = preco_latas + preco_galoes\n",
    "print(\"Latas: \", latas)\n",
    "print(\"Galoes: \", galoes)\n",
    "print(\"Preço Final: \", preco_final)"
   ]
  }
 ],
 "metadata": {
  "kernelspec": {
   "display_name": "Python 3",
   "language": "python",
   "name": "python3"
  },
  "language_info": {
   "codemirror_mode": {
    "name": "ipython",
    "version": 3
   },
   "file_extension": ".py",
   "mimetype": "text/x-python",
   "name": "python",
   "nbconvert_exporter": "python",
   "pygments_lexer": "ipython3",
   "version": "3.11.5"
  },
  "orig_nbformat": 4
 },
 "nbformat": 4,
 "nbformat_minor": 2
}
