{
 "cells": [
  {
   "cell_type": "code",
   "execution_count": 1,
   "metadata": {},
   "outputs": [
    {
     "name": "stdout",
     "output_type": "stream",
     "text": [
      "o produto iphone teve aumento de venda\n",
      " o galaxy teve decrescimo de vendas\n",
      " o ipad teve decrescimo de vendas\n",
      "o produto tv teve aumento de venda\n",
      "o produto máquina de café teve aumento de venda\n",
      " o kindle teve decrescimo de vendas\n",
      " o geladeira teve decrescimo de vendas\n",
      " o adega teve decrescimo de vendas\n",
      "o produto notebook dell teve aumento de venda\n",
      "o produto notebook hp teve aumento de venda\n",
      " o notebook asus teve decrescimo de vendas\n",
      "o produto microsoft surface teve aumento de venda\n",
      "o produto webcam teve aumento de venda\n",
      "o produto caixa de som teve aumento de venda\n",
      "o produto microfone teve aumento de venda\n",
      "o produto câmera canon teve aumento de venda\n"
     ]
    }
   ],
   "source": [
    "produtos = ['iphone', 'galaxy', 'ipad', 'tv', 'máquina de café', 'kindle', 'geladeira', 'adega', 'notebook dell', 'notebook hp', 'notebook asus', 'microsoft surface', 'webcam', 'caixa de som', 'microfone', 'câmera canon']\n",
    "vendas2019 = [558147,712350,573823,405252,718654,531580,973139,892292,422760,154753,887061,438508,237467,489705,328311,591120]\n",
    "vendas2020 = [951642,244295,26964,787604,867660,78830,710331,646016,694913,539704,324831,667179,295633,725316,644622,994303]\n",
    "#seu código aqui\n",
    "\n",
    "for i, produto in enumerate(produtos):\n",
    "  if vendas2020[i] > vendas2019[i]:\n",
    "    print(f'o produto {produto} teve aumento de venda')\n",
    "  else:\n",
    "    print(f'o {produto} teve decrescimo de vendas')"
   ]
  },
  {
   "cell_type": "code",
   "execution_count": null,
   "metadata": {},
   "outputs": [],
   "source": [
    "estoque = [\n",
    "    [294, 125, 269, 208, 783, 852, 259, 371, 47, 102, 386, 87, 685, 686, 697, 941, 163, 631, 7, 714, 218, 670, 453],\n",
    "    [648, 816, 310, 555, 992, 643, 226, 319, 501, 23, 239, 42, 372, 441, 126, 645, 927, 911, 761, 445, 974, 2, 549],\n",
    "    [832, 683, 784, 449, 977, 705, 198, 937, 729, 327, 339, 10, 975, 310, 95, 689, 137, 795, 211, 538, 933, 751, 522],\n",
    "    [837, 168, 570, 397, 53, 297, 966, 714, 72, 737, 259, 629, 625, 469, 922, 305, 782, 243, 841, 848, 372, 621, 362],\n",
    "    [429, 242, 53, 985, 406, 186, 198, 50, 501, 870, 781, 632, 781, 105, 644, 509, 401, 88, 961, 765, 422, 340, 654],\n",
    "]\n",
    "fabricas = ['Lira Manufacturing', 'Fábrica Hashtag', 'Python Manufaturas', 'Produções e Cia', 'Manufatura e Cia']\n",
    "nivel_minimo = 50\n",
    "fabricas_abaixo_nivel = []\n",
    "\n",
    "\n",
    "for i, lista in enumerate(estoque):\n",
    "    #se dentro daquela lista tem alguem abaixo do nível minimo\n",
    "    for qtde in lista:\n",
    "        if qtde < nivel_minimo:\n",
    "            if fabricas[i] in fabricas_abaixo_nivel:\n",
    "                pass\n",
    "            else:\n",
    "                fabricas_abaixo_nivel.append(fabricas[i])\n",
    "            \n",
    "            \n",
    "print(fabricas_abaixo_nivel)"
   ]
  },
  {
   "cell_type": "code",
   "execution_count": 1,
   "metadata": {},
   "outputs": [
    {
     "name": "stdout",
     "output_type": "stream",
     "text": [
      "[['jota', 40], ['amarildo', 50], ['adaamastor', 60]]\n",
      "37.5% dos vendedores bateram a meta \n"
     ]
    }
   ],
   "source": [
    "vendas = [\n",
    "  ['João',30],\n",
    "  ['jota',40],\n",
    "  ['ggoku',35],\n",
    "  ['vegeta',25],\n",
    "  ['amarildo',50],\n",
    "  ['adaamastor',60],\n",
    "  ['atari',30],\n",
    "  ['nsmi',28],\n",
    "  ]\n",
    "\n",
    "meta =[]\n",
    "maior = 0\n",
    "indice_maior = 0\n",
    "for i,venda in enumerate(vendas):\n",
    "  if venda[1] > maior:\n",
    "    maior = venda[1]\n",
    "    indice_maior = i\n",
    "  if venda[1] >= 40:\n",
    "    meta.append(venda)\n",
    "\n",
    "\n",
    "print(meta)\n",
    "print(f'Maior venda {vendas[indice_maior]}')\n",
    "print('{:.1%} dos vendedores bateram a meta ' .format(len(meta)/len(vendas)))"
   ]
  }
 ],
 "metadata": {
  "kernelspec": {
   "display_name": "Python 3",
   "language": "python",
   "name": "python3"
  },
  "language_info": {
   "codemirror_mode": {
    "name": "ipython",
    "version": 3
   },
   "file_extension": ".py",
   "mimetype": "text/x-python",
   "name": "python",
   "nbconvert_exporter": "python",
   "pygments_lexer": "ipython3",
   "version": "3.11.5"
  },
  "orig_nbformat": 4
 },
 "nbformat": 4,
 "nbformat_minor": 2
}
