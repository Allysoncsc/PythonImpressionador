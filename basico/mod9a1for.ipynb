{
 "cells": [
  {
   "cell_type": "code",
   "execution_count": 1,
   "metadata": {},
   "outputs": [
    {
     "name": "stdout",
     "output_type": "stream",
     "text": [
      "Estude\n",
      "Estude\n",
      "Estude\n",
      "Estude\n",
      "Estude\n"
     ]
    }
   ],
   "source": [
    "for i in range(5):\n",
    "    print('Estude')"
   ]
  },
  {
   "cell_type": "code",
   "execution_count": 4,
   "metadata": {},
   "outputs": [
    {
     "name": "stdout",
     "output_type": "stream",
     "text": [
      "1000 unidades produzidas de coca\n",
      "1200 unidades produzidas de pepsi\n",
      "1500 unidades produzidas de sprite\n",
      "1800 unidades produzidas de fanta\n"
     ]
    }
   ],
   "source": [
    "produtos = ['coca','pepsi','sprite','fanta']\n",
    "producao = [1000,1200,1500,1800]\n",
    "\n",
    "tamanho = len(produtos)\n",
    "\n",
    "for i in range(tamanho):\n",
    "    print(f'{producao[i]} unidades produzidas de {produtos[i]}' )"
   ]
  },
  {
   "cell_type": "code",
   "execution_count": null,
   "metadata": {},
   "outputs": [],
   "source": [
    "#for each\n",
    "for item in produtos:\n",
    "    print(item)"
   ]
  },
  {
   "cell_type": "code",
   "execution_count": 7,
   "metadata": {},
   "outputs": [
    {
     "name": "stdout",
     "output_type": "stream",
     "text": [
      "bateu a meta 1500\n",
      "bateu a meta 1800\n",
      "quantidades de metas batidas 2\n",
      "percentual de metas batidas 50.0%\n"
     ]
    }
   ],
   "source": [
    "qtd_bateu_meta = 0\n",
    "\n",
    "for produzido in producao:\n",
    "    if produzido >1300:\n",
    "        qtd_bateu_meta += 1\n",
    "        print(f'bateu a meta {produzido}')\n",
    "\n",
    "qtd_prod = len(producao)\n",
    "print(f'quantidades de metas batidas {qtd_bateu_meta}')\n",
    "print('percentual de metas batidas {:.1%}' .format(qtd_bateu_meta/qtd_prod))"
   ]
  }
 ],
 "metadata": {
  "kernelspec": {
   "display_name": "Python 3",
   "language": "python",
   "name": "python3"
  },
  "language_info": {
   "codemirror_mode": {
    "name": "ipython",
    "version": 3
   },
   "file_extension": ".py",
   "mimetype": "text/x-python",
   "name": "python",
   "nbconvert_exporter": "python",
   "pygments_lexer": "ipython3",
   "version": "3.11.4"
  },
  "orig_nbformat": 4
 },
 "nbformat": 4,
 "nbformat_minor": 2
}
