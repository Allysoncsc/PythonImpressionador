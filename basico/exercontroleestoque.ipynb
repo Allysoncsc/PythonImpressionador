{
 "cells": [
  {
   "cell_type": "code",
   "execution_count": 4,
   "metadata": {},
   "outputs": [],
   "source": [
    "alimentos_min_esto = 50\n",
    "bebidas_min_esto = 75\n",
    "limpeza_min_esto = 30"
   ]
  },
  {
   "cell_type": "code",
   "execution_count": 5,
   "metadata": {},
   "outputs": [],
   "source": [
    "nome_produto = input('Digite o nome do produto: ')\n",
    "tipo_produto = input('Digite a cagoria do produto: ')\n",
    "quant_produto = int(input('Digite a quantidade do produto: '))\n",
    "\n",
    "\n"
   ]
  },
  {
   "cell_type": "code",
   "execution_count": 6,
   "metadata": {},
   "outputs": [
    {
     "name": "stdout",
     "output_type": "stream",
     "text": [
      "Falta 50  ype no estoque\n"
     ]
    }
   ],
   "source": [
    "#verifica se ta preenchido\n",
    "if nome_produto and tipo_produto and quant_produto:\n",
    "    if tipo_produto == 'bebidas':\n",
    "        if quant_produto >= bebidas_min_esto:\n",
    "            print(f'Quantidade de bebidas {nome_produto} no estoque ok ')\n",
    "        else:\n",
    "            falta = bebidas_min_esto - quant_produto\n",
    "            print(f'Falta {falta} bebidas {nome_produto} no estoque')\n",
    "    elif tipo_produto == 'limpeza':\n",
    "        if quant_produto >= limpeza_min_esto:\n",
    "            print(f'Quantidade de  {nome_produto} no estoque ok ')\n",
    "        else:\n",
    "            falta = bebidas_min_esto - quant_produto\n",
    "            print(f'Falta {falta}  {nome_produto} no estoque')\n",
    "else:\n",
    "    print('Preencha todas as informações!')"
   ]
  }
 ],
 "metadata": {
  "kernelspec": {
   "display_name": "Python 3",
   "language": "python",
   "name": "python3"
  },
  "language_info": {
   "codemirror_mode": {
    "name": "ipython",
    "version": 3
   },
   "file_extension": ".py",
   "mimetype": "text/x-python",
   "name": "python",
   "nbconvert_exporter": "python",
   "pygments_lexer": "ipython3",
   "version": "3.11.4"
  },
  "orig_nbformat": 4
 },
 "nbformat": 4,
 "nbformat_minor": 2
}
