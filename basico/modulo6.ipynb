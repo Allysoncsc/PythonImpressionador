{
 "cells": [
  {
   "cell_type": "code",
   "execution_count": 2,
   "metadata": {},
   "outputs": [
    {
     "name": "stdout",
     "output_type": "stream",
     "text": [
      "Batemos a meta, vendemos 60000 unidades\n"
     ]
    }
   ],
   "source": [
    "meta = 50000\n",
    "qtd_venda = 60000\n",
    "\n",
    "if qtd_venda > meta:\n",
    "    print(f'Batemos a meta, vendemos {qtd_venda} unidades')\n",
    "else:\n",
    "    print(f'Infelizmente não batemos a meta, {qtd_venda} vendidos')"
   ]
  },
  {
   "cell_type": "code",
   "execution_count": 3,
   "metadata": {},
   "outputs": [
    {
     "name": "stdout",
     "output_type": "stream",
     "text": [
      "Você ganhou 1800.0 de bonus\n"
     ]
    }
   ],
   "source": [
    "\n",
    "bonus = 0.0\n",
    "if qtd_venda < meta:\n",
    "    print(f'Não ganhou o bonus')\n",
    "elif qtd_venda >(meta * 2):\n",
    "    bonus = 0.07 * qtd_venda\n",
    "    print(f'Você ganhou {bonus} de bonus')\n",
    "else:\n",
    "    bonus = 0.03 * qtd_venda\n",
    "    print(f'Você ganhou {bonus} de bonus')"
   ]
  }
 ],
 "metadata": {
  "kernelspec": {
   "display_name": "Python 3",
   "language": "python",
   "name": "python3"
  },
  "language_info": {
   "codemirror_mode": {
    "name": "ipython",
    "version": 3
   },
   "file_extension": ".py",
   "mimetype": "text/x-python",
   "name": "python",
   "nbconvert_exporter": "python",
   "pygments_lexer": "ipython3",
   "version": "3.11.5"
  },
  "orig_nbformat": 4
 },
 "nbformat": 4,
 "nbformat_minor": 2
}
