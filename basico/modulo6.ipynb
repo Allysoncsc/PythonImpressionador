{
 "cells": [
  {
   "cell_type": "code",
   "execution_count": null,
   "metadata": {},
   "outputs": [],
   "source": [
    "meta = 50000\n",
    "qtd_venda = 30000\n",
    "\n",
    "if qtd_venda > meta:\n",
    "    print(f'Batemos a meta, vendemos {qtd_venda} unidades')\n",
    "else:\n",
    "    print(f'Infelizmente não batemos a meta, {qtd_venda} vendidos')"
   ]
  }
 ],
 "metadata": {
  "language_info": {
   "name": "python"
  },
  "orig_nbformat": 4
 },
 "nbformat": 4,
 "nbformat_minor": 2
}
