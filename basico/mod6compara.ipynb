{
 "cells": [
  {
   "cell_type": "code",
   "execution_count": 1,
   "metadata": {},
   "outputs": [
    {
     "name": "stdout",
     "output_type": "stream",
     "text": [
      "Program 1\n"
     ]
    }
   ],
   "source": [
    "print('Program 1')\n",
    "id = input('Cadastre o ID: ')\n",
    "senha = input('Cadastre a sua senha: ')"
   ]
  },
  {
   "cell_type": "code",
   "execution_count": 2,
   "metadata": {},
   "outputs": [
    {
     "name": "stdout",
     "output_type": "stream",
     "text": [
      "Programa 2\n"
     ]
    }
   ],
   "source": [
    "print('Programa 2')\n",
    "tempid = input('Logue cm seu id: ')\n",
    "tempsenha = input('Logue cm sua senha: ')"
   ]
  },
  {
   "cell_type": "code",
   "execution_count": 3,
   "metadata": {},
   "outputs": [
    {
     "name": "stdout",
     "output_type": "stream",
     "text": [
      "Programa 3\n",
      "Logado\n"
     ]
    }
   ],
   "source": [
    "print('Programa 3')\n",
    "if tempid != id:\n",
    "    print('ID inválido')\n",
    "elif tempsenha != senha:\n",
    "    print('Senha inválida')\n",
    "else:\n",
    "    print('Logado')"
   ]
  }
 ],
 "metadata": {
  "kernelspec": {
   "display_name": "Python 3",
   "language": "python",
   "name": "python3"
  },
  "language_info": {
   "codemirror_mode": {
    "name": "ipython",
    "version": 3
   },
   "file_extension": ".py",
   "mimetype": "text/x-python",
   "name": "python",
   "nbconvert_exporter": "python",
   "pygments_lexer": "ipython3",
   "version": "3.11.4"
  },
  "orig_nbformat": 4
 },
 "nbformat": 4,
 "nbformat_minor": 2
}
