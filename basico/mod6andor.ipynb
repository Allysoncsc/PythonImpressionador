{
 "cells": [
  {
   "cell_type": "code",
   "execution_count": 1,
   "metadata": {},
   "outputs": [
    {
     "name": "stdout",
     "output_type": "stream",
     "text": [
      "Funcionario não ganhou bonus\n"
     ]
    }
   ],
   "source": [
    "meta_funcionaario = 10000\n",
    "meta_lja = 25000\n",
    "venda_funcionario = 5000\n",
    "venda_loja = 20000\n",
    "\n",
    "if venda_funcionario > meta_funcionaario and venda_loja > meta_lja:\n",
    "    bonus = 0.03 * venda_funcionario\n",
    "    print(f'Bonus ganho foi de {bonus}')\n",
    "else:\n",
    "    print(f'Funcionario não ganhou bonus')"
   ]
  },
  {
   "cell_type": "code",
   "execution_count": 2,
   "metadata": {},
   "outputs": [
    {
     "name": "stdout",
     "output_type": "stream",
     "text": [
      "Bonus ganho foi de 150.0\n"
     ]
    }
   ],
   "source": [
    "nota_funcionario = 9\n",
    "meta_nota = 8\n",
    "\n",
    "if nota_funcionario >= meta_nota or (venda_funcionario > meta_funcionaario and venda_loja > meta_lja):\n",
    "    bonus = 0.03 * venda_funcionario\n",
    "    print(f'Bonus ganho foi de {bonus}')\n",
    "else:\n",
    "    print(f'Funcionario não ganhou bonus')"
   ]
  }
 ],
 "metadata": {
  "kernelspec": {
   "display_name": "Python 3",
   "language": "python",
   "name": "python3"
  },
  "language_info": {
   "codemirror_mode": {
    "name": "ipython",
    "version": 3
   },
   "file_extension": ".py",
   "mimetype": "text/x-python",
   "name": "python",
   "nbconvert_exporter": "python",
   "pygments_lexer": "ipython3",
   "version": "3.11.4"
  },
  "orig_nbformat": 4
 },
 "nbformat": 4,
 "nbformat_minor": 2
}
