{
 "cells": [
  {
   "cell_type": "code",
   "execution_count": 2,
   "metadata": {},
   "outputs": [
    {
     "name": "stdout",
     "output_type": "stream",
     "text": [
      "25\n",
      "a\n",
      "co\n",
      "allyson@gmail.com\n",
      "True\n"
     ]
    }
   ],
   "source": [
    "email = 'correiasallyson@gmail.com'\n",
    "nome = 'Allyson'\n",
    "\n",
    "#tamanho\n",
    "print(len(email))\n",
    "# pegando o caracter da posição 8\n",
    "print(email[8])\n",
    "\n",
    "#indice neggativo\n",
    "# -7 -6 -5 -4 -3 -2 -1\n",
    "#  A  l  l  y  s  o  n\n",
    "\n",
    "#pegar do inicio até o caracter 1\n",
    "print(email[:2])\n",
    "\n",
    "#pegar do caracter escolhido para frente\n",
    "print(email[8:])\n",
    "\n",
    "#verificar se tem algum caracter dentro do texto\n",
    "print('@' in email)"
   ]
  }
 ],
 "metadata": {
  "kernelspec": {
   "display_name": "Python 3",
   "language": "python",
   "name": "python3"
  },
  "language_info": {
   "codemirror_mode": {
    "name": "ipython",
    "version": 3
   },
   "file_extension": ".py",
   "mimetype": "text/x-python",
   "name": "python",
   "nbconvert_exporter": "python",
   "pygments_lexer": "ipython3",
   "version": "3.11.4"
  },
  "orig_nbformat": 4
 },
 "nbformat": 4,
 "nbformat_minor": 2
}
