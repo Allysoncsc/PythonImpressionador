{
 "cells": [
  {
   "cell_type": "code",
   "execution_count": null,
   "metadata": {},
   "outputs": [],
   "source": [
    "email = 'correiasallyson@gmail.com'\n",
    "nome = 'Allyson'\n",
    "\n",
    "#colcoar tudo em minusculo\n",
    "print(nome.casefold())\n",
    "\n",
    "#conta qquantas vezes um caracter tem dentro do texto\n",
    "print(email.count('a'))\n",
    "\n",
    "#verificar se o texto termina com certo texto\n",
    "print(email.endswith('gmail.com'))\n",
    "#.startwith('')\n",
    "\n",
    "#procura o indice do caracter\n",
    "print(email.find('@'))\n",
    "\n",
    "#verificar se é só texto .isalpha\n",
    "#verificar se é só número .isnumeric\n",
    "#.replace('.',',')\n",
    "#.split('@')\n",
    "#retirar os espaços no começo e fim .strip()"
   ]
  },
  {
   "cell_type": "code",
   "execution_count": 1,
   "metadata": {},
   "outputs": [
    {
     "name": "stdout",
     "output_type": "stream",
     "text": [
      "Olá,\n",
      "Você precisa estuar,\n",
      "precisa muito fazewr isso!!\n",
      "\n"
     ]
    }
   ],
   "source": [
    "texto = '''Olá,\n",
    "Você precisa estuar,\n",
    "precisa muito fazewr isso!!\n",
    "'''\n",
    "print(texto)"
   ]
  }
 ],
 "metadata": {
  "kernelspec": {
   "display_name": "Python 3",
   "language": "python",
   "name": "python3"
  },
  "language_info": {
   "codemirror_mode": {
    "name": "ipython",
    "version": 3
   },
   "file_extension": ".py",
   "mimetype": "text/x-python",
   "name": "python",
   "nbconvert_exporter": "python",
   "pygments_lexer": "ipython3",
   "version": "3.11.4"
  },
  "orig_nbformat": 4
 },
 "nbformat": 4,
 "nbformat_minor": 2
}
