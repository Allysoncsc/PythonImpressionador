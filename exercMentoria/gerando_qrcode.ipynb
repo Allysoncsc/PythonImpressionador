{
 "cells": [
  {
   "cell_type": "code",
   "execution_count": null,
   "metadata": {},
   "outputs": [],
   "source": [
    "#https://github.com/Allysoncsc\n",
    "\n",
    "import qrcode\n",
    "\n",
    "\n",
    "imagem = qrcode.make(\"https://github.com/Allysoncsc\")\n",
    "imagem.save(\"qrcode.png\")\n",
    "\n"
   ]
  }
 ],
 "metadata": {
  "language_info": {
   "name": "python"
  },
  "orig_nbformat": 4
 },
 "nbformat": 4,
 "nbformat_minor": 2
}
