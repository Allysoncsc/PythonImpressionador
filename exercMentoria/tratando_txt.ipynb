{
 "cells": [
  {
   "cell_type": "code",
   "execution_count": 5,
   "metadata": {},
   "outputs": [
    {
     "name": "stdout",
     "output_type": "stream",
     "text": [
      "Contaagem de paalavras: 9\n",
      "frequenciaa de paaalaavraas: Counter({'Olá': 1, 'Mundo': 1, 'Eu': 1, 'estou': 1, 'aqui': 1, 'de': 1, 'novo': 1, 'tentando': 1, 'aprender': 1})\n",
      "frequencia de letras: Counter({' ': 8, 'o': 6, 'e': 6, 'n': 5, 'u': 4, 'd': 4, 't': 3, 'a': 3, 'r': 2, 'l': 1, 'á': 1, 'm': 1, 's': 1, 'q': 1, 'i': 1, 'v': 1, 'p': 1})\n"
     ]
    }
   ],
   "source": [
    "import string\n",
    "#print(string.punctuation)\n",
    "#print(string.ascii_uppercase)\n",
    "#print(string.digits)\n",
    "from collections import Counter\n",
    "#print(Counter(['a','b','a','c','b','a']))\n",
    "#print(Counter('abacba'))\n",
    "\n",
    "#maketrans tem 3 parametros\n",
    "# 1-\"as strings a serem substituidas\" 2-\"as str que vao substituir\" 3-\"vao serr rremovidas\"\n",
    "#str.maketrans()\n",
    "\n",
    "def analisar_texto(texto):\n",
    "  #remover pontuação\n",
    "  tratamento = str.maketrans(\"\",\"\",string.punctuation)\n",
    "  texto_tratado = texto.translate(tratamento)\n",
    "  palavras = texto_tratado.split()\n",
    "  qtd_palavras = len(palavras)\n",
    "  frequencia_palvras = Counter(palavras)\n",
    "  frequencia_letras =Counter(texto_tratado.lower())\n",
    "  return qtd_palavras,frequencia_palvras,frequencia_letras\n",
    "\n",
    "texto = 'Olá Mundo! Eu estou aqui de novo tentando aprender.'\n",
    "\n",
    "#fazendo o unpaacking da tupla\n",
    "qtd_palavras, frequenci_palavras,frequencia_letras = analisar_texto(texto)\n",
    "\n",
    "\n",
    "print(f\"Contaagem de paalavras: {qtd_palavras}\")\n",
    "print(f\"frequenciaa de paaalaavraas: {frequenci_palavras}\")\n",
    "print(f\"frequencia de letras: {frequencia_letras}\")\n"
   ]
  }
 ],
 "metadata": {
  "kernelspec": {
   "display_name": "Python 3",
   "language": "python",
   "name": "python3"
  },
  "language_info": {
   "codemirror_mode": {
    "name": "ipython",
    "version": 3
   },
   "file_extension": ".py",
   "mimetype": "text/x-python",
   "name": "python",
   "nbconvert_exporter": "python",
   "pygments_lexer": "ipython3",
   "version": "3.11.5"
  },
  "orig_nbformat": 4
 },
 "nbformat": 4,
 "nbformat_minor": 2
}
