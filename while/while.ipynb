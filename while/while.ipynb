{
 "cells": [
  {
   "cell_type": "code",
   "execution_count": 1,
   "metadata": {},
   "outputs": [],
   "source": [
    "produto = input('Registre um produto. Para cancelar digggite não digite nada')\n",
    "qtd = input('Registre a quantidade: ')\n",
    "produtos = []\n",
    "\n",
    "\n",
    "while produto != '':\n",
    "# if not produto:\n",
    "#   break\n",
    "  produtos.append([produto,qtd])\n",
    "  produto = input('Registre um produto. Para cancelar digggite não digite nada')\n",
    "  qtd = input('Registre a quantidade: ')\n",
    "\n"
   ]
  },
  {
   "cell_type": "code",
   "execution_count": null,
   "metadata": {},
   "outputs": [],
   "source": [
    "vendas = [800,250,300,600,200,100,50,49,43]\n",
    "\n",
    "i =  0\n",
    "meta = 50\n",
    "while vendas[i] >= 50:\n",
    "  print(f'')\n",
    "  i +=1\n"
   ]
  }
 ],
 "metadata": {
  "kernelspec": {
   "display_name": "Python 3",
   "language": "python",
   "name": "python3"
  },
  "language_info": {
   "codemirror_mode": {
    "name": "ipython",
    "version": 3
   },
   "file_extension": ".py",
   "mimetype": "text/x-python",
   "name": "python",
   "nbconvert_exporter": "python",
   "pygments_lexer": "ipython3",
   "version": "3.11.5"
  },
  "orig_nbformat": 4
 },
 "nbformat": 4,
 "nbformat_minor": 2
}
