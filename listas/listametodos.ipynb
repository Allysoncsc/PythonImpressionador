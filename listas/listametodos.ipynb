{
 "cells": [
  {
   "cell_type": "code",
   "execution_count": null,
   "metadata": {},
   "outputs": [],
   "source": [
    "mochila1 = ['gameboy','caderno','caneta','lapis','borracha']\n",
    "mochila2 = ['biscoito','suco']\n",
    "\n",
    "mochila1.extend(mochila2)\n",
    "mochila_nova = mochila1 + mochila2\n",
    "\n",
    "\n",
    "#ordenaar\n",
    "mochila1.sort()\n",
    "#ordem decrescente\n",
    "mochila1.sort((reverse=True))\n",
    "\n",
    "#join é um metodo de exebir\n",
    "print(','.join(mochila1))\n",
    "print('\\n'.join(mochila1))"
   ]
  },
  {
   "cell_type": "code",
   "execution_count": 1,
   "metadata": {},
   "outputs": [
    {
     "name": "stdout",
     "output_type": "stream",
     "text": [
      "['apple tv', 'mac', 'iphone x', 'iphne 11']\n"
     ]
    }
   ],
   "source": [
    "produtos = 'apple tv, mac, iphone x, iphne 11'\n",
    "#criando uma lista \n",
    "lista = produtos.split(', ')\n",
    "print(lista)\n",
    "\n",
    "lista = lista + ['mac']\n",
    "print(lista)"
   ]
  }
 ],
 "metadata": {
  "kernelspec": {
   "display_name": "Python 3",
   "language": "python",
   "name": "python3"
  },
  "language_info": {
   "codemirror_mode": {
    "name": "ipython",
    "version": 3
   },
   "file_extension": ".py",
   "mimetype": "text/x-python",
   "name": "python",
   "nbconvert_exporter": "python",
   "pygments_lexer": "ipython3",
   "version": "3.11.4"
  },
  "orig_nbformat": 4
 },
 "nbformat": 4,
 "nbformat_minor": 2
}
