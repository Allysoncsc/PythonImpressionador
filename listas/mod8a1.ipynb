{
 "cells": [
  {
   "cell_type": "code",
   "execution_count": 2,
   "metadata": {},
   "outputs": [
    {
     "name": "stdout",
     "output_type": "stream",
     "text": [
      "3500\n",
      "3200\n"
     ]
    }
   ],
   "source": [
    "produtos = ['TV', 'Tablet', 'Teclado', 'monitor', 'mouse']\n",
    "valor = [3500, 1500, 80]\n",
    "\n",
    "print(valor[0])\n",
    "\n",
    "valor[0] = 3200\n",
    "\n",
    "print(valor[0])\n",
    "\n",
    "\n",
    "#pegando o indice\n",
    "i = produtos.index('Tablet')\n",
    "\n"
   ]
  },
  {
   "cell_type": "code",
   "execution_count": null,
   "metadata": {},
   "outputs": [],
   "source": [
    "produto = input('Diggite o nome do produto: ')\n",
    "\n",
    "if produto in produtos:\n",
    "    i = produtos.index(produto)\n",
    "else:\n",
    "    print('Produto não cadastrado')"
   ]
  },
  {
   "cell_type": "code",
   "execution_count": null,
   "metadata": {},
   "outputs": [],
   "source": [
    "produto = input('Diggite o nome do produto: ')\n",
    "\n",
    "#adiciona no final da lista\n",
    "produtos.append(produto)\n",
    "\n",
    "#removendo pop = por indice;   remove = por nome\n",
    "item_removido = produtos.pop(i)\n",
    "produtos.remove(produto)\n"
   ]
  },
  {
   "cell_type": "code",
   "execution_count": null,
   "metadata": {},
   "outputs": [],
   "source": [
    "try:\n",
    "    produtos.remove('iphonex')\n",
    "except:\n",
    "    print('Produto não encontrado')"
   ]
  },
  {
   "cell_type": "code",
   "execution_count": null,
   "metadata": {},
   "outputs": [],
   "source": [
    "tamanho = len(produtos)\n",
    "mais_caaro = max(valor)\n",
    "mais_baraato = min(valor)"
   ]
  }
 ],
 "metadata": {
  "kernelspec": {
   "display_name": "Python 3",
   "language": "python",
   "name": "python3"
  },
  "language_info": {
   "codemirror_mode": {
    "name": "ipython",
    "version": 3
   },
   "file_extension": ".py",
   "mimetype": "text/x-python",
   "name": "python",
   "nbconvert_exporter": "python",
   "pygments_lexer": "ipython3",
   "version": "3.11.6"
  },
  "orig_nbformat": 4
 },
 "nbformat": 4,
 "nbformat_minor": 2
}
