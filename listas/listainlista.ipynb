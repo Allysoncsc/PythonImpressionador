{
 "cells": [
  {
   "cell_type": "code",
   "execution_count": 2,
   "metadata": {},
   "outputs": [
    {
     "name": "stdout",
     "output_type": "stream",
     "text": [
      "Allyson vendeu 100 ipads\n"
     ]
    }
   ],
   "source": [
    "vendedores = ['Allyson', 'Alailson', 'Alais']\n",
    "produtos = ['ipad','iphone']\n",
    "vendas = [\n",
    "    [100,150],\n",
    "    [120,60],\n",
    "    [80,160]\n",
    "]\n",
    "\n",
    "print(f'{vendedores[0]} vendeu {vendas[0][0]} {produtos[0]}s')"
   ]
  },
  {
   "cell_type": "code",
   "execution_count": null,
   "metadata": {},
   "outputs": [],
   "source": [
    "produtos.append('mac')\n",
    "vendas_mac = [6,5,9]\n",
    "\n",
    "vendas[0].append(vendas_mac[0])\n",
    "\n"
   ]
  }
 ],
 "metadata": {
  "kernelspec": {
   "display_name": "Python 3",
   "language": "python",
   "name": "python3"
  },
  "language_info": {
   "codemirror_mode": {
    "name": "ipython",
    "version": 3
   },
   "file_extension": ".py",
   "mimetype": "text/x-python",
   "name": "python",
   "nbconvert_exporter": "python",
   "pygments_lexer": "ipython3",
   "version": "3.11.4"
  },
  "orig_nbformat": 4
 },
 "nbformat": 4,
 "nbformat_minor": 2
}
