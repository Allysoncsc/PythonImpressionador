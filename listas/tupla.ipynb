{
 "cells": [
  {
   "cell_type": "code",
   "execution_count": 1,
   "metadata": {},
   "outputs": [
    {
     "name": "stdout",
     "output_type": "stream",
     "text": [
      "Allyson nasceu em 02/04/1990, tipo sanggguineo: O+\n"
     ]
    }
   ],
   "source": [
    "#tupla se usa () e é imutável\n",
    "\n",
    "tupla =('Allyson','02/04/1990','O+')\n",
    "\n",
    "print(f'{tupla[0]} nasceu em {tupla[1]}, tipo sanggguineo: {tupla[2]}')\n",
    "\n",
    "#variaveis tem que ser o mesmo numero de elementos da tupla para desempacota\n",
    "nome , nascimento, tipo_sang = tupla\n"
   ]
  },
  {
   "cell_type": "code",
   "execution_count": 2,
   "metadata": {},
   "outputs": [
    {
     "name": "stdout",
     "output_type": "stream",
     "text": [
      "O faturamento de IPhone no dia 20/08/2020 foi de 7400000\n",
      "Meu produto mais vendido em 21/08/20 foi ipad, 4000 unidades\n"
     ]
    }
   ],
   "source": [
    "vendas = [\n",
    "    ('20/08/2020', 'iphone x', 'azul', '128gb', 350, 4000),\n",
    "    ('20/08/2020', 'iphone x', 'prata', '128gb', 1500, 4000),\n",
    "    ('20/08/2020', 'ipad', 'prata', '256gb', 127, 6000),\n",
    "    ('20/08/2020', 'ipad', 'prata', '128gb', 981, 5000),\n",
    "    ('21/08/2020', 'iphone x', 'azul', '128gb', 397, 4000),\n",
    "    ('21/08/2020', 'iphone x', 'prata', '128gb', 1017, 4000),\n",
    "    ('21/08/2020', 'ipad', 'prata', '256gb', 50, 6000),\n",
    "    ('21/08/2020', 'ipad', 'prata', '128gb', 4000, 5000),\n",
    "]\n",
    "\n",
    "faturamento = 0\n",
    "for item in vendas:\n",
    "    data, produto, cor, capacidade, unidades, valor_unitario = item \n",
    "    if produto == 'iphone x' and data == '20/08/2020':\n",
    "        faturamento += unidades * valor_unitario\n",
    "        \n",
    "\n",
    "#data, produto, cor, capacidade, unidades, valor_unitario = vendas[0]\n",
    "\n",
    "#faturamento = unidades * valor_unitario\n",
    "print('O faturamento de IPhone no dia 20/08/2020 foi de {}'.format(faturamento))\n",
    "\n",
    "\n",
    "\n",
    "produto_mai_vendido = ''\n",
    "qtd_produto_mais_vendido = 0\n",
    "\n",
    "for item in vendas:\n",
    "    data,produto,cor,capacidade,unidades,valor_unitario = item\n",
    "    if data == '21/08/2020':\n",
    "        if unidades > qtd_produto_mais_vendido:\n",
    "            produto_mai_vendido = produto\n",
    "            qtd_produto_mais_vendido = unidades\n",
    "\n",
    "print(f'Meu produto mais vendido em 21/08/20 foi {produto_mai_vendido}, {qtd_produto_mais_vendido} unidades')\n"
   ]
  }
 ],
 "metadata": {
  "kernelspec": {
   "display_name": "Python 3",
   "language": "python",
   "name": "python3"
  },
  "language_info": {
   "codemirror_mode": {
    "name": "ipython",
    "version": 3
   },
   "file_extension": ".py",
   "mimetype": "text/x-python",
   "name": "python",
   "nbconvert_exporter": "python",
   "pygments_lexer": "ipython3",
   "version": "3.11.5"
  },
  "orig_nbformat": 4
 },
 "nbformat": 4,
 "nbformat_minor": 2
}
