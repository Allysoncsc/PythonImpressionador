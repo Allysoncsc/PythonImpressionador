{
 "cells": [
  {
   "cell_type": "code",
   "execution_count": 1,
   "metadata": {},
   "outputs": [
    {
     "data": {
      "text/html": [
       "<div>\n",
       "<style scoped>\n",
       "    .dataframe tbody tr th:only-of-type {\n",
       "        vertical-align: middle;\n",
       "    }\n",
       "\n",
       "    .dataframe tbody tr th {\n",
       "        vertical-align: top;\n",
       "    }\n",
       "\n",
       "    .dataframe thead th {\n",
       "        text-align: right;\n",
       "    }\n",
       "</style>\n",
       "<table border=\"1\" class=\"dataframe\">\n",
       "  <thead>\n",
       "    <tr style=\"text-align: right;\">\n",
       "      <th></th>\n",
       "      <th>Vendas 2021</th>\n",
       "      <th>Vendaasa 2022</th>\n",
       "    </tr>\n",
       "  </thead>\n",
       "  <tbody>\n",
       "    <tr>\n",
       "      <th>iphone</th>\n",
       "      <td>558147</td>\n",
       "      <td>951642</td>\n",
       "    </tr>\n",
       "    <tr>\n",
       "      <th>galaxy</th>\n",
       "      <td>558147</td>\n",
       "      <td>951642</td>\n",
       "    </tr>\n",
       "    <tr>\n",
       "      <th>ipad</th>\n",
       "      <td>558147</td>\n",
       "      <td>951642</td>\n",
       "    </tr>\n",
       "    <tr>\n",
       "      <th>pocco</th>\n",
       "      <td>558147</td>\n",
       "      <td>951642</td>\n",
       "    </tr>\n",
       "    <tr>\n",
       "      <th>tv</th>\n",
       "      <td>558147</td>\n",
       "      <td>951642</td>\n",
       "    </tr>\n",
       "    <tr>\n",
       "      <th>pc</th>\n",
       "      <td>558147</td>\n",
       "      <td>951642</td>\n",
       "    </tr>\n",
       "    <tr>\n",
       "      <th>ryzen</th>\n",
       "      <td>558147</td>\n",
       "      <td>951642</td>\n",
       "    </tr>\n",
       "    <tr>\n",
       "      <th>rtx580</th>\n",
       "      <td>558147</td>\n",
       "      <td>951642</td>\n",
       "    </tr>\n",
       "  </tbody>\n",
       "</table>\n",
       "</div>"
      ],
      "text/plain": [
       "        Vendas 2021  Vendaasa 2022\n",
       "iphone       558147         951642\n",
       "galaxy       558147         951642\n",
       "ipad         558147         951642\n",
       "pocco        558147         951642\n",
       "tv           558147         951642\n",
       "pc           558147         951642\n",
       "ryzen        558147         951642\n",
       "rtx580       558147         951642"
      ]
     },
     "metadata": {},
     "output_type": "display_data"
    }
   ],
   "source": [
    "import pandas as pd\n",
    "\n",
    "vendas_produtos = {\n",
    "  'iphone' : [558147,951642],\n",
    "  'galaxy' : [558147,951642],\n",
    "  'ipad' : [558147,951642],\n",
    "  'pocco' : [558147,951642],\n",
    "  'tv' : [558147,951642],\n",
    "  'pc' : [558147,951642],\n",
    "  'ryzen' : [558147,951642],\n",
    "  'rtx580' : [558147,951642],}\n",
    "\n",
    "#sem o orient cada chave vira uma coluna\n",
    "vendas_produtos_df = pd.DataFrame.from_dict(vendas_produtos, orient='index')\n",
    "vendas_produtos_df = vendas_produtos_df.rename(columns={0: 'Vendas 2021', 1: 'Vendasa 2022'})\n",
    "display(vendas_produtos_df)\n",
    "\n"
   ]
  }
 ],
 "metadata": {
  "kernelspec": {
   "display_name": "Python 3",
   "language": "python",
   "name": "python3"
  },
  "language_info": {
   "codemirror_mode": {
    "name": "ipython",
    "version": 3
   },
   "file_extension": ".py",
   "mimetype": "text/x-python",
   "name": "python",
   "nbconvert_exporter": "python",
   "pygments_lexer": "ipython3",
   "version": "3.11.5"
  }
 },
 "nbformat": 4,
 "nbformat_minor": 2
}
