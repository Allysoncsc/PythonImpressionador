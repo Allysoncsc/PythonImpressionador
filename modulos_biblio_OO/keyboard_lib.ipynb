{
 "cells": [
  {
   "cell_type": "code",
   "execution_count": 2,
   "metadata": {},
   "outputs": [],
   "source": [
    "import keyboard\n",
    "import webbrowser\n",
    "import time\n",
    "\n",
    "\n",
    "\n",
    "webbrowser.open('https://github.com/Allysoncsc')\n",
    "\n",
    "time.sleep(2)\n",
    "keyboard.press_and_release('ctrl+t')\n",
    "\n",
    "keyboard.write('https://www.youtube.com/@HashtagProgramacao/streams')\n",
    "\n",
    "keyboard.press_and_release('enter')"
   ]
  }
 ],
 "metadata": {
  "kernelspec": {
   "display_name": "Python 3",
   "language": "python",
   "name": "python3"
  },
  "language_info": {
   "codemirror_mode": {
    "name": "ipython",
    "version": 3
   },
   "file_extension": ".py",
   "mimetype": "text/x-python",
   "name": "python",
   "nbconvert_exporter": "python",
   "pygments_lexer": "ipython3",
   "version": "3.11.5"
  },
  "orig_nbformat": 4
 },
 "nbformat": 4,
 "nbformat_minor": 2
}
