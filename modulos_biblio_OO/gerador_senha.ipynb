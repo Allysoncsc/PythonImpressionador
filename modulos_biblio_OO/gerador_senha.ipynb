{
 "cells": [
  {
   "cell_type": "code",
   "execution_count": 8,
   "metadata": {},
   "outputs": [
    {
     "name": "stdout",
     "output_type": "stream",
     "text": [
      "28u]],]6j+\n"
     ]
    }
   ],
   "source": [
    "\n",
    "#recebe o comprimento da senha\n",
    "#gera uma senhaaa com numeros e caaracteres especiaais\n",
    "import random\n",
    "import string \n",
    "\n",
    "\n",
    "def gerar_senha(comp):\n",
    "  opcoes = ''\n",
    "  opcoes += string.punctuation + string.ascii_letters + string.digits\n",
    "  senha = ''\n",
    "  for i in range(comp):\n",
    "    senha += random.choice(opcoes)\n",
    "\n",
    "  return senha\n",
    "\n",
    "\n",
    "\n",
    "comp = int(input('DDigite o comprimento da senha: '))\n",
    "\n",
    "senha_aleatoria = gerar_senha(comp)\n",
    "\n",
    "print(senha_aleatoria)\n",
    "\n",
    "\n"
   ]
  }
 ],
 "metadata": {
  "kernelspec": {
   "display_name": "Python 3",
   "language": "python",
   "name": "python3"
  },
  "language_info": {
   "codemirror_mode": {
    "name": "ipython",
    "version": 3
   },
   "file_extension": ".py",
   "mimetype": "text/x-python",
   "name": "python",
   "nbconvert_exporter": "python",
   "pygments_lexer": "ipython3",
   "version": "3.11.5"
  },
  "orig_nbformat": 4
 },
 "nbformat": 4,
 "nbformat_minor": 2
}
