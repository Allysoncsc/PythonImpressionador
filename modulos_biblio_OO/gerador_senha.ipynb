{
 "cells": [
  {
   "cell_type": "code",
   "execution_count": 3,
   "metadata": {},
   "outputs": [
    {
     "name": "stdout",
     "output_type": "stream",
     "text": [
      "9ZgZ&)fTV\n"
     ]
    }
   ],
   "source": [
    "\n",
    "#recebe o comprimento da senha\n",
    "#gera uma senhaaa com numeros e caaracteres especiaais\n",
    "import random\n",
    "import string \n",
    "\n",
    "\n",
    "def gerar_senha(comp):\n",
    "  if comp < 4:\n",
    "    print(\"Senha tem que ter mais de 4 caracteres\")\n",
    "  else:\n",
    "  \n",
    "    #join melhora a performance\n",
    "    #opcoes = string.punctuation + string.ascii_letters + string.digits\n",
    "    opcoes = \"\".join([string.punctuation, string.ascii_letters, string.digits])\n",
    "    #senha = ''\n",
    "    #for i in range(comp):\n",
    "    #  senha += random.choice(opcoes)\n",
    "    senha = [\n",
    "      random.choice(string.ascii_letters),\n",
    "      random.choice(string.digits),\n",
    "      random.choice(string.punctuation)\n",
    "    ]\n",
    "\n",
    "    senha.extend(random.choices(opcoes,k=comp-3))\n",
    "\n",
    "    random.shuffle(senha)\n",
    "    return \"\".join(senha)\n",
    "\n",
    "\n",
    "\n",
    "comp = int(input('DDigite o comprimento da senha: '))\n",
    "\n",
    "senha_aleatoria = gerar_senha(comp)\n",
    "\n",
    "print(senha_aleatoria)\n",
    "\n",
    "\n"
   ]
  }
 ],
 "metadata": {
  "kernelspec": {
   "display_name": "Python 3",
   "language": "python",
   "name": "python3"
  },
  "language_info": {
   "codemirror_mode": {
    "name": "ipython",
    "version": 3
   },
   "file_extension": ".py",
   "mimetype": "text/x-python",
   "name": "python",
   "nbconvert_exporter": "python",
   "pygments_lexer": "ipython3",
   "version": "3.11.5"
  },
  "orig_nbformat": 4
 },
 "nbformat": 4,
 "nbformat_minor": 2
}
