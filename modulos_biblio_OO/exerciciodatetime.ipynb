{
 "cells": [
  {
   "cell_type": "code",
   "execution_count": 2,
   "metadata": {},
   "outputs": [
    {
     "name": "stdout",
     "output_type": "stream",
     "text": [
      "ultima compra a 135\n",
      "terá direito a desconto\n"
     ]
    }
   ],
   "source": [
    "from datetime import datetime, timedelta\n",
    "\n",
    "ultima_compra = datetime(2023,5,10)\n",
    "\n",
    "hoje = datetime.now()\n",
    "\n",
    "desconto = hoje - ultima_compra\n",
    "\n",
    "print(f'ultima compra a {desconto.days}')\n",
    "if desconto.days > 30:\n",
    "  print(f'terá direito a desconto')\n"
   ]
  }
 ],
 "metadata": {
  "kernelspec": {
   "display_name": "Python 3",
   "language": "python",
   "name": "python3"
  },
  "language_info": {
   "codemirror_mode": {
    "name": "ipython",
    "version": 3
   },
   "file_extension": ".py",
   "mimetype": "text/x-python",
   "name": "python",
   "nbconvert_exporter": "python",
   "pygments_lexer": "ipython3",
   "version": "3.11.6"
  },
  "orig_nbformat": 4
 },
 "nbformat": 4,
 "nbformat_minor": 2
}
