{
 "cells": [
  {
   "cell_type": "code",
   "execution_count": 3,
   "metadata": {},
   "outputs": [
    {
     "name": "stdout",
     "output_type": "stream",
     "text": [
      "Agora: 2023-09-21 21:05:06.269675\n",
      "Data: 2023-09-21\n",
      "Horario: 21:05:06.269675\n",
      "Ano: 2023\n",
      "Mês: 9\n",
      "Dia: 21\n",
      "Hora: 5\n",
      "Minuto: 6\n",
      "dez dias atrás: 2023-09-11 21:05:06.269675\n",
      "dez dias para frente: 2023-10-01 21:05:06.269675\n",
      "falta paraa o aniversario do hugo 198 dias\n"
     ]
    }
   ],
   "source": [
    "##timdelta é para operações com ddataas\n",
    "from datetime import datetime, timedelta #daaaata e hora \n",
    "from datetime import date  #só a data\n",
    "\n",
    "hoje = date.today()\n",
    "\n",
    "agora = datetime.now()\n",
    "print(f'Agora: {agora}')\n",
    "print(f'Data: {agora.date()}')\n",
    "print(f'Horario: {agora.time()}')\n",
    "print(f'Ano: {agora.year}')\n",
    "print(f'Mês: {agora.month}')\n",
    "print(f'Dia: {agora.day}')\n",
    "print(f'Hora: {agora.minute}')\n",
    "print(f'Minuto: {agora.second}')\n",
    "\n",
    "data_futura = agora + timedelta(days=10) \n",
    "data_passada = agora - timedelta(days=10) \n",
    "print(f'dez dias atrás: {data_passada}')\n",
    "print(f'dez dias para frente: {data_futura}')\n",
    "\n",
    "\n",
    "\n",
    "aniversario_hugo = datetime(2024,4,7)\n",
    "falta_para_aniversario = aniversario_hugo - agora\n",
    "print(f'falta paraa o aniversario do hugo {falta_para_aniversario.days} dias')"
   ]
  },
  {
   "cell_type": "code",
   "execution_count": 4,
   "metadata": {},
   "outputs": [
    {
     "name": "stdout",
     "output_type": "stream",
     "text": [
      "[datetime.datetime(2023, 1, 3, 0, 0), datetime.datetime(2023, 4, 2, 0, 0), datetime.datetime(2023, 4, 7, 0, 0), datetime.datetime(2023, 4, 30, 0, 0), datetime.datetime(2023, 5, 30, 0, 0)]\n"
     ]
    }
   ],
   "source": [
    "datas = [\n",
    "  datetime(2023,4,2),\n",
    "  datetime(2023,5,30),\n",
    "  datetime(2023,1,3),\n",
    "  datetime(2023,4,30),\n",
    "  datetime(2023,4,7)\n",
    "]\n",
    "\n",
    "datas_ordenadas = sorted(datas)\n",
    "print(datas_ordenadas)"
   ]
  }
 ],
 "metadata": {
  "kernelspec": {
   "display_name": "Python 3",
   "language": "python",
   "name": "python3"
  },
  "language_info": {
   "codemirror_mode": {
    "name": "ipython",
    "version": 3
   },
   "file_extension": ".py",
   "mimetype": "text/x-python",
   "name": "python",
   "nbconvert_exporter": "python",
   "pygments_lexer": "ipython3",
   "version": "3.11.5"
  },
  "orig_nbformat": 4
 },
 "nbformat": 4,
 "nbformat_minor": 2
}
