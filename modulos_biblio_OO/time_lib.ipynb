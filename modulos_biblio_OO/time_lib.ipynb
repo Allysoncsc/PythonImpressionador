{
 "cells": [
  {
   "cell_type": "code",
   "execution_count": null,
   "metadata": {},
   "outputs": [],
   "source": [
    "import time\n",
    "import locale\n",
    "\n",
    "locale.setlocale(locale.LC_TIME, 'pt_BR.UTF-8')\n",
    "\n",
    "tempo_atual_segundos = time.time()\n",
    "print(tempo_atual_segundos)"
   ]
  },
  {
   "cell_type": "code",
   "execution_count": null,
   "metadata": {},
   "outputs": [],
   "source": [
    "inicio = time.time()\n",
    "\n",
    "for i in range(100_000_000): # 100000000\n",
    "  pass\n",
    "\n",
    "fim = time.time()\n",
    "\n",
    "print(f'tempo decorrido: {fim - inicio} segundos')"
   ]
  },
  {
   "cell_type": "code",
   "execution_count": null,
   "metadata": {},
   "outputs": [],
   "source": [
    "print('iniciando a pausa')\n",
    "time.sleep(5)\n",
    "print('pausa terminada')"
   ]
  },
  {
   "cell_type": "code",
   "execution_count": 6,
   "metadata": {},
   "outputs": [
    {
     "name": "stdout",
     "output_type": "stream",
     "text": [
      "Wed Sep 20 22:11:40 2023\n",
      "time.struct_time(tm_year=2023, tm_mon=9, tm_mday=20, tm_hour=22, tm_min=11, tm_sec=40, tm_wday=2, tm_yday=263, tm_isdst=0)\n",
      "9\n"
     ]
    }
   ],
   "source": [
    "# funcao ctime() converte segundos em string com data atual\n",
    "\n",
    "tempo_atual_segundos = time.time()\n",
    "string_data = time.ctime(tempo_atual_segundos)\n",
    "\n",
    "#localtime() retorna uma tupla para poder pegar cada informação individualmente\n",
    "tempo_local = time.localtime(tempo_atual_segundos)\n",
    "\n",
    "print(string_data)\n",
    "print(tempo_local)\n",
    "print(tempo_local.tm_mon)"
   ]
  },
  {
   "cell_type": "code",
   "execution_count": 14,
   "metadata": {},
   "outputs": [
    {
     "name": "stdout",
     "output_type": "stream",
     "text": [
      "quinta-feira, 21 de setembro 2023, 20:32\n",
      "101 dias 207 minutos 19 segundos para 2024\n"
     ]
    }
   ],
   "source": [
    "### contagem regressiva\n",
    "import time as tempo\n",
    "import locale\n",
    "\n",
    "locale.setlocale(locale.LC_TIME, 'pt_BR.UTF-8')\n",
    "#end =' \\r' apaga o anterior\n",
    "#end =' \\t' espaço\n",
    "\n",
    "#for numero in range(10,0,-1):\n",
    "  #print(numero, end=' \\r')\n",
    "  #tempo.sleep(1)\n",
    "\n",
    "tempo_em_struct = tempo.localtime()\n",
    "\n",
    "tempo_formatado = tempo.strftime('%A, %d de %B %Y, %H:%M', tempo_em_struct)\n",
    "print(tempo_formatado)\n",
    "\n",
    "tempo_ano_novo = (tempo_em_struct.tm_year + 1,1,1,0,0,0,0,0,0)\n",
    "segundos_restantes = int(tempo.mktime(tempo_ano_novo) - tempo.mktime(tempo_em_struct))\n",
    "\n",
    "segundos_por_minuto = 60\n",
    "segundos_por_hora = 60 * 60\n",
    "segundos_por_dia = 24 * 60 *60\n",
    "\n",
    "dias, resto_segundos = divmod(segundos_restantes, segundos_por_dia)\n",
    "minutos, segundos = divmod(resto_segundos,segundos_por_minuto)\n",
    "\n",
    "print(f'{dias} dias {minutos} minutos {segundos} segundos para {tempo_ano_novo[0]}')\n",
    "\n"
   ]
  },
  {
   "cell_type": "code",
   "execution_count": null,
   "metadata": {},
   "outputs": [],
   "source": []
  }
 ],
 "metadata": {
  "kernelspec": {
   "display_name": "Python 3",
   "language": "python",
   "name": "python3"
  },
  "language_info": {
   "codemirror_mode": {
    "name": "ipython",
    "version": 3
   },
   "file_extension": ".py",
   "mimetype": "text/x-python",
   "name": "python",
   "nbconvert_exporter": "python",
   "pygments_lexer": "ipython3",
   "version": "3.11.5"
  },
  "orig_nbformat": 4
 },
 "nbformat": 4,
 "nbformat_minor": 2
}
