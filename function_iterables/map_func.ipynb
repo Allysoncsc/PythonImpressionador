{
 "cells": [
  {
   "cell_type": "code",
   "execution_count": 2,
   "metadata": {},
   "outputs": [
    {
     "name": "stdout",
     "output_type": "stream",
     "text": [
      "['abc12', 'abc32', 'abc37', 'beb12', 'bsa151', 'beb23']\n"
     ]
    }
   ],
   "source": [
    "#função map aplica uma função para cada item do iterable\n",
    "\n",
    "def padronizar_texto(texto):\n",
    "  texto = texto.casefold()\n",
    "  #texto = texto.upper()\n",
    "  texto = texto.replace(\"  \",\" \")\n",
    "  texto = texto.strip()\n",
    "  return texto\n",
    "\n",
    "produtos = [\"  ABC12\" , \"abc32\",\"Abc37\", 'beb12', \"BSa151\",\"BeB23\"]\n",
    "#precisa do list, só map retorna um objeto\n",
    "lista = list(map(padronizar_texto, produtos))\n",
    "\n",
    "print(lista)\n"
   ]
  },
  {
   "cell_type": "code",
   "execution_count": 4,
   "metadata": {},
   "outputs": [
    {
     "name": "stdout",
     "output_type": "stream",
     "text": [
      "['abc12', 'abc32', 'abc37', 'beb12', 'bsa151', 'beb23']\n"
     ]
    }
   ],
   "source": [
    "#usando o for\n",
    "\n",
    "for i, produto in enumerate(produtos):\n",
    "  produtos[i] = padronizar_texto(produto)\n",
    "\n",
    "print(produtos)\n",
    "\n",
    "\n"
   ]
  }
 ],
 "metadata": {
  "kernelspec": {
   "display_name": "Python 3",
   "language": "python",
   "name": "python3"
  },
  "language_info": {
   "codemirror_mode": {
    "name": "ipython",
    "version": 3
   },
   "file_extension": ".py",
   "mimetype": "text/x-python",
   "name": "python",
   "nbconvert_exporter": "python",
   "pygments_lexer": "ipython3",
   "version": "3.11.5"
  },
  "orig_nbformat": 4
 },
 "nbformat": 4,
 "nbformat_minor": 2
}
