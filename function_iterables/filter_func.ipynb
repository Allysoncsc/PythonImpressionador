{
 "cells": [
  {
   "cell_type": "code",
   "execution_count": 3,
   "metadata": {},
   "outputs": [
    {
     "name": "stdout",
     "output_type": "stream",
     "text": [
      "[('notebook asus', 2450), ('iphone', 4500), ('samsung galaxy', 3000), ('ps5', 3000), ('notebook dell', 3000), ('ipad', 3000), ('notebook hp', 1700)]\n"
     ]
    }
   ],
   "source": [
    "#funcao filter filtra um iterable\n",
    "#recebe uma função e um iterable = ao map\n",
    "#se for usar lista usa .items()\n",
    "\n",
    "preco_tecnologia = {'notebook asus': 2450, 'iphone': 4500, 'samsung galaxy': 3000, 'tv samsung': 1000, 'ps5': 3000, 'tablet': 1000, 'notebook dell': 3000, 'ipad': 3000, 'tv philco': 800, 'notebook hp': 1700}\n",
    "\n",
    "# dicionario_preco = dict(preco_tecnologia)\n",
    "\n",
    "# print(dicionario_preco)\n",
    "\n",
    "def ehmaior2000(item):\n",
    "  return item >2000\n",
    "\n",
    "produtos_acima2000 = list(filter(ehmaior2000, preco_tecnologia.values()))\n",
    "\n",
    "\n",
    "produtos_acima100= list(filter(lambda item: item[1] > 1000, preco_tecnologia.items()))\n",
    "\n",
    "print(produtos_acima100)\n"
   ]
  },
  {
   "cell_type": "code",
   "execution_count": 2,
   "metadata": {},
   "outputs": [
    {
     "name": "stdout",
     "output_type": "stream",
     "text": [
      "{'notebook asus': 2450, 'iphone': 4500, 'samsung galaxy': 3000, 'ps5': 3000, 'notebook dell': 3000, 'ipad': 3000}\n",
      "{'notebook asus': 2450, 'iphone': 4500, 'samsung galaxy': 3000, 'ps5': 3000, 'notebook dell': 3000, 'ipad': 3000}\n"
     ]
    }
   ],
   "source": [
    "#fazendo por function\n",
    "#print(preco_tecnologia.items())\n",
    "def ehmaior2000(item):\n",
    "    return item[1] > 2000\n",
    "\n",
    "produtos_acima2000 = dict(list(filter(ehmaior2000, preco_tecnologia.items())))\n",
    "print(produtos_acima2000)\n",
    "\n",
    "\n",
    "#fazendo por lambda\n",
    "produtos2_acima2000 = dict(list(filter(lambda item: item[1] > 2000 , preco_tecnologia.items())))\n",
    "print(produtos2_acima2000)"
   ]
  }
 ],
 "metadata": {
  "kernelspec": {
   "display_name": "Python 3",
   "language": "python",
   "name": "python3"
  },
  "language_info": {
   "codemirror_mode": {
    "name": "ipython",
    "version": 3
   },
   "file_extension": ".py",
   "mimetype": "text/x-python",
   "name": "python",
   "nbconvert_exporter": "python",
   "pygments_lexer": "ipython3",
   "version": "3.11.5"
  },
  "orig_nbformat": 4
 },
 "nbformat": 4,
 "nbformat_minor": 2
}
