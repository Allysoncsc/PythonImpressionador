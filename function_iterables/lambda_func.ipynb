{
 "cells": [
  {
   "cell_type": "code",
   "execution_count": 1,
   "metadata": {},
   "outputs": [
    {
     "name": "stdout",
     "output_type": "stream",
     "text": [
      "12\n"
     ]
    }
   ],
   "source": [
    "#lamda é uma função que retorna uam linha de codigo\n",
    "#sem nome\n",
    "\n",
    "\n",
    "# minha_funcao = lamda parametro: expressão\n",
    "\n",
    "def minha_funcao(nume):\n",
    "  return nume*2\n",
    "\n",
    "minha_funcao2 = lambda num: num*2\n",
    "print(minha_funcao2(6))"
   ]
  },
  {
   "cell_type": "code",
   "execution_count": 3,
   "metadata": {},
   "outputs": [
    {
     "name": "stdout",
     "output_type": "stream",
     "text": [
      "130.0\n"
     ]
    }
   ],
   "source": [
    "#calcular imposto\n",
    "imposto = 0.3\n",
    "\n",
    "def preco_imposto(preco):\n",
    "  return preco * (1+0.3)\n",
    "\n",
    "\n",
    "\n",
    "preco_imposto2 = lambda preco: preco *(1+imposto)\n",
    "\n",
    "print(preco_imposto2(100))\n"
   ]
  },
  {
   "cell_type": "code",
   "execution_count": null,
   "metadata": {},
   "outputs": [],
   "source": [
    "preco_tecnologia = {'notebook asus': 2450, 'iphone': 4500, 'samsung galaxy': 3000, 'tv samsung': 1000, 'ps5': 3000, 'tablet': 1000, 'notebook dell': 3000, 'ipad': 3000, 'tv philco': 800, 'notebook hp': 1700}\n",
    "#.values() retorna o valor do dicionario\n",
    "\n",
    "def calcular_preco(preco):\n",
    "  return preco * 1.3\n",
    "\n",
    "\n",
    "preco_com_imposto = list(map(calcular_preco,preco_tecnologia.values()))\n",
    "\n",
    "#com lambda\n",
    "preco_com_imposto2 = list(map(lambda preco: preco *1.3, preco_tecnologia.values()))\n",
    "\n",
    "\n",
    "\n",
    "\n"
   ]
  }
 ],
 "metadata": {
  "kernelspec": {
   "display_name": "Python 3",
   "language": "python",
   "name": "python3"
  },
  "language_info": {
   "codemirror_mode": {
    "name": "ipython",
    "version": 3
   },
   "file_extension": ".py",
   "mimetype": "text/x-python",
   "name": "python",
   "nbconvert_exporter": "python",
   "pygments_lexer": "ipython3",
   "version": "3.11.5"
  },
  "orig_nbformat": 4
 },
 "nbformat": 4,
 "nbformat_minor": 2
}
