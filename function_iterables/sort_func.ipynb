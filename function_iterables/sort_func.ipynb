{
 "cells": [
  {
   "cell_type": "code",
   "execution_count": null,
   "metadata": {},
   "outputs": [],
   "source": [
    "#sort modifica o valor\n",
    "#sorted retorna um valo, tem que atribuir\n",
    "#sort tbm recebe uma função e usa antes de ordena\n",
    "\n",
    "\n",
    "\n",
    "\n",
    "\n",
    "produtos = ['apple tv', 'mac', 'IPhone x', 'IPhone 11', 'IPad', 'apple watch', 'mac book', 'airpods']\n",
    "produtos.sort()\n",
    "print(produtos)\n",
    "\n",
    "\n",
    "#ordenar como se todo mundo fosse minusculo\n",
    "#produtos.sort(key=padroniza_texto)\n",
    "produtos.sort(key=str.casefold)\n",
    "print(produtos)\n",
    "\n"
   ]
  },
  {
   "cell_type": "code",
   "execution_count": 2,
   "metadata": {},
   "outputs": [
    {
     "name": "stdout",
     "output_type": "stream",
     "text": [
      "{'iphone': 5500, 'microondas': 300, 'cafeiteira': 150, 'vinho': 100}\n"
     ]
    }
   ],
   "source": [
    "#ordenar dicionario de acordo com o valor\n",
    "\n",
    "def segundo_item(tupla):\n",
    "  return tupla[1]\n",
    "\n",
    "vendas_produtos = {'vinho': 100, 'cafeiteira': 150, 'microondas': 300, 'iphone': 5500}\n",
    "\n",
    "lista_vendas = list(vendas_produtos.items())\n",
    "\n",
    "lista_vendas.sort(key=segundo_item, reverse=True)\n",
    "print(dict(lista_vendas))\n",
    "\n",
    "\n",
    "\n"
   ]
  }
 ],
 "metadata": {
  "kernelspec": {
   "display_name": "Python 3",
   "language": "python",
   "name": "python3"
  },
  "language_info": {
   "codemirror_mode": {
    "name": "ipython",
    "version": 3
   },
   "file_extension": ".py",
   "mimetype": "text/x-python",
   "name": "python",
   "nbconvert_exporter": "python",
   "pygments_lexer": "ipython3",
   "version": "3.11.5"
  },
  "orig_nbformat": 4
 },
 "nbformat": 4,
 "nbformat_minor": 2
}
