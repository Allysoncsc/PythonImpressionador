{
 "cells": [
  {
   "cell_type": "code",
   "execution_count": 6,
   "metadata": {},
   "outputs": [
    {
     "name": "stdout",
     "output_type": "stream",
     "text": [
      "3750.0\n",
      "(array([3, 4, 5], dtype=int64),)\n",
      "[4000 4500 5000]\n",
      "[4000 4500 5000]\n",
      "[4500 5000]\n"
     ]
    }
   ],
   "source": [
    "import numpy as np\n",
    "\n",
    "sal_estagiario = [1000, 1500, 500, 600]\n",
    "array_sal_estagio = np.array(sal_estagiario)\n",
    "\n",
    "salarios = np.array([3000,2500,3500,4000,4500,5000])\n",
    "\n",
    "\n",
    "#calcular media de salarios\n",
    "media_salarial = np.mean(salarios)\n",
    "\n",
    "print(media_salarial)\n",
    "\n",
    "\n",
    "\n",
    "#retorna o array com indices dos valores acima da media\n",
    "funcionarios_acima_media = np.where(salarios > media_salarial)\n",
    "\n",
    "print(funcionarios_acima_media)\n",
    "\n",
    "#numpy aceita receber um array de indices\n",
    "print(salarios[funcionarios_acima_media])\n",
    "\n",
    "#se for uma condição simples nao precia do where\n",
    "print(salarios[salarios>media_salarial])\n",
    "print(salarios[salarios>4000])\n"
   ]
  },
  {
   "cell_type": "code",
   "execution_count": 9,
   "metadata": {},
   "outputs": [
    {
     "name": "stdout",
     "output_type": "stream",
     "text": [
      "900.0\n",
      "1000\n",
      "1500\n",
      "[1000 1500]\n"
     ]
    }
   ],
   "source": [
    "\n",
    "media_sal = sum(sal_estagiario) / len(sal_estagiario)\n",
    "print(media_sal)\n",
    "\n",
    "for i in range(len(sal_estagiario)):\n",
    "  if sal_estagiario[i] > media_sal:\n",
    "    print(sal_estagiario[i])\n",
    "\n",
    "print(array_sal_estagio[array_sal_estagio>np.mean(array_sal_estagio)])\n",
    "\n",
    "\n"
   ]
  },
  {
   "cell_type": "code",
   "execution_count": 15,
   "metadata": {},
   "outputs": [
    {
     "name": "stdout",
     "output_type": "stream",
     "text": [
      "['Abaixo da media' 'Abaixo da media' 'Abaixo da media' 'Acima da media'\n",
      " 'Acima da media' 'Acima da media']\n",
      "[1000. 1500.  525.  630.]\n",
      "[1000. 1575.  525.  600.]\n"
     ]
    }
   ],
   "source": [
    "\n",
    "#cria outro array de aacordo coma condição passada\n",
    "print((np.where(salarios > media_salarial, \"Acima da media\",\"Abaixo da media\")))\n",
    "\n",
    "#ajustando o valor de quem recebe entre 400 e 999 em 5%\n",
    "#                                 condição                                              se sim                          se não\n",
    "salarios_ajustados = np.where((array_sal_estagio > 400) & (array_sal_estagio < 1000), array_sal_estagio * 1.05, array_sal_estagio)\n",
    "print(salarios_ajustados)\n",
    "\n",
    "#ajustando salario menor que 600 e maior que 1000\n",
    "salarios_ajustados = np.where((array_sal_estagio < 600) | (array_sal_estagio > 1000), array_sal_estagio * 1.05, array_sal_estagio)\n",
    "print(salarios_ajustados)\n"
   ]
  }
 ],
 "metadata": {
  "kernelspec": {
   "display_name": "Python 3",
   "language": "python",
   "name": "python3"
  },
  "language_info": {
   "codemirror_mode": {
    "name": "ipython",
    "version": 3
   },
   "file_extension": ".py",
   "mimetype": "text/x-python",
   "name": "python",
   "nbconvert_exporter": "python",
   "pygments_lexer": "ipython3",
   "version": "3.11.5"
  },
  "orig_nbformat": 4
 },
 "nbformat": 4,
 "nbformat_minor": 2
}
