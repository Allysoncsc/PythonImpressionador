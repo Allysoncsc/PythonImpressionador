{
 "cells": [
  {
   "cell_type": "code",
   "execution_count": 1,
   "metadata": {},
   "outputs": [
    {
     "name": "stdout",
     "output_type": "stream",
     "text": [
      "[2, 3, 4, 5, 6]\n",
      "[2 3 4]\n"
     ]
    }
   ],
   "source": [
    "#Estrutura de dados que armazena valores de um mesmo tipo\n",
    "\n",
    "\n",
    "import numpy as np\n",
    "\n",
    "#no array os elementos devem ser do mesmo tipo\n",
    "array = np.array([1,2,3,4,5])\n",
    "\n",
    "\n",
    "\n",
    "\n",
    "lista = [1,2,3,4,5]\n",
    "\n",
    "#transformando lista em array\n",
    "listoarray = np.array(lista)\n",
    "\n",
    "for i in range(len(lista)):\n",
    "  lista[i] =lista[i] + 1\n",
    "\n",
    "\n",
    "print(lista)\n",
    "#do indice 1 ao 3\n",
    "print(array[1:4])\n"
   ]
  },
  {
   "cell_type": "code",
   "execution_count": 3,
   "metadata": {},
   "outputs": [
    {
     "name": "stdout",
     "output_type": "stream",
     "text": [
      "[1.1 2.2 3.3 4.4 5.5]\n",
      "16.5\n"
     ]
    }
   ],
   "source": [
    "novo_array = array *1.1\n",
    "\n",
    "print(novo_array)\n",
    "print(np.sum(novo_array))\n",
    "\n"
   ]
  }
 ],
 "metadata": {
  "kernelspec": {
   "display_name": "Python 3",
   "language": "python",
   "name": "python3"
  },
  "language_info": {
   "codemirror_mode": {
    "name": "ipython",
    "version": 3
   },
   "file_extension": ".py",
   "mimetype": "text/x-python",
   "name": "python",
   "nbconvert_exporter": "python",
   "pygments_lexer": "ipython3",
   "version": "3.11.5"
  },
  "orig_nbformat": 4
 },
 "nbformat": 4,
 "nbformat_minor": 2
}
