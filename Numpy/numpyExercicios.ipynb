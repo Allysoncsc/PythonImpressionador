{
 "cells": [
  {
   "cell_type": "code",
   "execution_count": 2,
   "metadata": {},
   "outputs": [
    {
     "name": "stdout",
     "output_type": "stream",
     "text": [
      "5 funcionários estão acima da média saalarial\n",
      "[False  True]\n",
      "[4 5]\n"
     ]
    }
   ],
   "source": [
    "import numpy as np\n",
    "\n",
    "\n",
    "lista = [1,2,3,4,5]\n",
    "lista_to_array = np.array(lista)\n",
    "\n",
    "\n",
    "salarios = np.array([3000,2500,3500,4000,2000,4500,3000,3800,4800])\n",
    "\n",
    "\n",
    "\n",
    "media_sal = np.mean(salarios)\n",
    "\n",
    "# o python ver true como 1\n",
    "func_acima_media = np.sum(salarios>media_sal)\n",
    "\n",
    "print(f\"{func_acima_media} funcionários estão acima da média saalarial\")\n",
    "\n",
    "\n",
    "\n",
    "#retorna 2 arraays com os tipos e aa quantidade\n",
    "valores_unicos, ocorrenncia = np.unique(salarios> media_sal, return_counts=True)\n",
    "\n",
    "print(valores_unicos)\n",
    "print(ocorrenncia)\n",
    "\n",
    "\n",
    "\n",
    "rng = np.random.default_rng(seed=42)\n",
    "salarios_gerados = rng.integers(low=np.min(salarios), high=np.max(salarios),size=20,endpoint=True)\n",
    "\n",
    "\n",
    "\n"
   ]
  },
  {
   "cell_type": "code",
   "execution_count": 5,
   "metadata": {},
   "outputs": [
    {
     "name": "stdout",
     "output_type": "stream",
     "text": [
      "5.8\n",
      "0.592546294487706\n",
      "[7.2]\n",
      "[7.2]\n",
      "(array([0, 1, 2, 3, 4, 5, 6, 8]),)\n"
     ]
    }
   ],
   "source": [
    "\n",
    "tempos_ciclo = np.array([5.5,5.7,5.9,6.0,5.8,5.6,5.7,7.2,4.8])\n",
    "\n",
    "media = np.mean(tempos_ciclo)\n",
    "desvio_padrao = np.std(tempos_ciclo)\n",
    "\n",
    "print(media)\n",
    "print(desvio_padrao)\n",
    "\n",
    "\n",
    "condicao = (tempos_ciclo > media + 2*desvio_padrao)|(tempos_ciclo < media -2*desvio_padrao)\n",
    "anomalias = np.where(condicao)\n",
    "print(tempos_ciclo[anomalias])\n",
    "\n",
    "print(tempos_ciclo[condicao])\n",
    "\n",
    "#nnnega;ao da conndicao\n",
    "print(np.where(~condicao))\n"
   ]
  }
 ],
 "metadata": {
  "kernelspec": {
   "display_name": "Python 3",
   "language": "python",
   "name": "python3"
  },
  "language_info": {
   "codemirror_mode": {
    "name": "ipython",
    "version": 3
   },
   "file_extension": ".py",
   "mimetype": "text/x-python",
   "name": "python",
   "nbconvert_exporter": "python",
   "pygments_lexer": "ipython3",
   "version": "3.11.5"
  },
  "orig_nbformat": 4
 },
 "nbformat": 4,
 "nbformat_minor": 2
}
