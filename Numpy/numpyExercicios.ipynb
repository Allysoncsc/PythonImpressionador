{
 "cells": [
  {
   "cell_type": "code",
   "execution_count": 3,
   "metadata": {},
   "outputs": [
    {
     "name": "stdout",
     "output_type": "stream",
     "text": [
      "5 funcionários estão acima da média saalarial\n",
      "(array([False,  True]), array([4, 5], dtype=int64))\n"
     ]
    }
   ],
   "source": [
    "import numpy as np\n",
    "\n",
    "\n",
    "lista = [1,2,3,4,5]\n",
    "lista_to_array = np.array(lista)\n",
    "\n",
    "\n",
    "salarios = np.array([3000,2500,3500,4000,2000,4500,3000,3800,4800])\n",
    "\n",
    "\n",
    "\n",
    "media_sal = np.mean(salarios)\n",
    "\n",
    "# o python ver true como 1\n",
    "func_acima_media = np.sum(salarios>media_sal)\n",
    "\n",
    "print(f\"{func_acima_media} funcionários estão acima da média saalarial\")\n",
    "\n",
    "\n",
    "\n",
    "#retorna 2 arraays com os tipos e aa quantidade\n",
    "print(np.unique(salarios> media_sal, return_counts=True))\n",
    "\n",
    "\n",
    "\n",
    "\n",
    "\n",
    "rng = np.random.default_rng(seed=42)\n",
    "salarios_gerados = rng.integers(low=np.min(salarios), high=np.max(salarios),size=20)"
   ]
  }
 ],
 "metadata": {
  "kernelspec": {
   "display_name": "Python 3",
   "language": "python",
   "name": "python3"
  },
  "language_info": {
   "codemirror_mode": {
    "name": "ipython",
    "version": 3
   },
   "file_extension": ".py",
   "mimetype": "text/x-python",
   "name": "python",
   "nbconvert_exporter": "python",
   "pygments_lexer": "ipython3",
   "version": "3.11.5"
  },
  "orig_nbformat": 4
 },
 "nbformat": 4,
 "nbformat_minor": 2
}
