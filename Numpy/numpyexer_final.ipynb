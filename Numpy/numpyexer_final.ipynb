{
 "cells": [
  {
   "cell_type": "code",
   "execution_count": 15,
   "metadata": {},
   "outputs": [
    {
     "name": "stdout",
     "output_type": "stream",
     "text": [
      "[325 433 368]\n"
     ]
    }
   ],
   "source": [
    "import numpy as np\n",
    "\n",
    "\n",
    "vendas = np.array([[50,60,70,65,80],\n",
    "                   [85,90,78,92,88],\n",
    "                   [72,75,68,77,76]])\n",
    "\n",
    "\n",
    "vendas_produto = np.sum(vendas, axis=1)\n",
    "print(vendas_produto)\n"
   ]
  },
  {
   "cell_type": "code",
   "execution_count": 16,
   "metadata": {},
   "outputs": [
    {
     "name": "stdout",
     "output_type": "stream",
     "text": [
      "Vendas totais produto A: 325\n",
      "Vendas totais produto B: 433\n",
      "Vendas totais produto C: 368\n"
     ]
    }
   ],
   "source": [
    "print(f\"Vendas totais produto A: {vendas_produto[0]}\")\n",
    "print(f\"Vendas totais produto B: {vendas_produto[1]}\")\n",
    "print(f\"Vendas totais produto C: {vendas_produto[2]}\")"
   ]
  },
  {
   "cell_type": "code",
   "execution_count": 17,
   "metadata": {},
   "outputs": [
    {
     "name": "stdout",
     "output_type": "stream",
     "text": [
      "Dia 1: 207\n",
      "Dia 2: 225\n",
      "Dia 3: 216\n",
      "Dia 4: 234\n",
      "Dia 5: 244\n"
     ]
    }
   ],
   "source": [
    "vendas_dia = np.sum(vendas, axis=0)\n",
    "\n",
    "for i in range(len(vendas_dia)):\n",
    "  print(f\"Dia {i+1}: {vendas_dia[i]}\")"
   ]
  },
  {
   "cell_type": "code",
   "execution_count": 19,
   "metadata": {},
   "outputs": [
    {
     "name": "stdout",
     "output_type": "stream",
     "text": [
      "5.147619047619048\n",
      "[5.5        5.06666667 5.36666667 5.1        4.96666667 5.\n",
      " 5.03333333]\n"
     ]
    }
   ],
   "source": [
    "rng = np.random.default_rng(seed=42)\n",
    "repostas = rng.integers(low=0,high=10,size=210,endpoint=True)\n",
    "# print(repostas)\n",
    "respostas_shape = np.reshape(repostas,(7,30))\n",
    "\n",
    "media_geral = np.mean(respostas_shape)\n",
    "mediaa_diaria = np.mean(respostas_shape,axis=1)\n",
    "\n",
    "print(media_geral)\n",
    "print(mediaa_diaria)\n",
    "\n"
   ]
  }
 ],
 "metadata": {
  "kernelspec": {
   "display_name": "Python 3",
   "language": "python",
   "name": "python3"
  },
  "language_info": {
   "codemirror_mode": {
    "name": "ipython",
    "version": 3
   },
   "file_extension": ".py",
   "mimetype": "text/x-python",
   "name": "python",
   "nbconvert_exporter": "python",
   "pygments_lexer": "ipython3",
   "version": "3.11.5"
  },
  "orig_nbformat": 4
 },
 "nbformat": 4,
 "nbformat_minor": 2
}
