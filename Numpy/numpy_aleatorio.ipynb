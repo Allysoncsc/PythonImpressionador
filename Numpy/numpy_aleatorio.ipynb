{
 "cells": [
  {
   "cell_type": "code",
   "execution_count": 35,
   "metadata": {},
   "outputs": [
    {
     "name": "stdout",
     "output_type": "stream",
     "text": [
      "4\n",
      "tessssssssssssste\n"
     ]
    }
   ],
   "source": [
    "import numpy as np\n",
    "\n",
    "\n",
    "#criar um gerador de numero aleatorio\n",
    "rng = np.random.default_rng()\n",
    "\n",
    "\n",
    "numero_aleatorio = 50\n",
    "#random gera numero entre 0 e 1\n",
    "while (numero_aleatorio >=10):\n",
    "  numero_aleatorio = int(rng.random() *100)\n",
    "  print(numero_aleatorio)\n",
    "\n",
    "if (numero_aleatorio ==2) or (numero_aleatorio ==3) or (numero_aleatorio ==4)or (numero_aleatorio ==5)or (numero_aleatorio ==6):\n",
    "  print(\"tessssssssssssste\") \n",
    "\n",
    "\n",
    "#gerar array de num aleatorio\n",
    "array_aleatorio = rng.random(3)\n"
   ]
  },
  {
   "cell_type": "code",
   "execution_count": 39,
   "metadata": {},
   "outputs": [
    {
     "name": "stdout",
     "output_type": "stream",
     "text": [
      "[54 88 82 71 71 92 54 84 60 54]\n",
      "92\n",
      "54\n"
     ]
    }
   ],
   "source": [
    "#gerar valores aleatorios\n",
    "#trava os numeros para todos que gerarem com esses parametros \n",
    "#verem e trablharem com os mesmos numeors\n",
    "#o numero do seed não importa, 42 é o sentido da vida do universo e tudo mais\n",
    "rng = np.random.default_rng(seed = 42)\n",
    "int_aleatorios = rng.integers(low=50, high=100, size= 10)\n",
    "print(int_aleatorios)\n",
    "print(np.max(int_aleatorios))\n",
    "#indice do maior valor\n",
    "print(np.argmax(int_aleatorios))\n",
    "print(np.min(int_aleatorios))\n",
    "\n",
    "\n",
    "#Mediana\n",
    "print(np.median(int_aleatorios))\n",
    "\n",
    "#percentil\n",
    "print(np.percentile(int_aleatorios, 50))\n",
    "\n",
    "#desvio padrao\n",
    "print(np.std(int_aleatorios))\n",
    "\n",
    "#variancia\n",
    "print(np.var(int_aleatorios))\n",
    "\n"
   ]
  },
  {
   "cell_type": "markdown",
   "metadata": {},
   "source": [
    "Breve resumo e conceitos simplificados das funções estatísticas citadas:\n",
    "\n",
    "1. Mediana:\n",
    "A mediana é um valor que divide um conjunto de dados em duas partes iguais. Para encontrá-la, você deve organizar os dados em ordem crescente ou decrescente e escolher o valor do meio. Se houver um número ímpar de dados, a mediana será exatamente o valor central. Se houver um número par de dados, a mediana será a média dos dois valores do meio.\n",
    "\n",
    "2. Percentil:\n",
    "O percentil é uma medida estatística que indica a posição relativa de um dado dentro de um conjunto de dados. Ele informa a porcentagem de valores que estão abaixo desse dado. Por exemplo, o percentil 50 (também conhecido como mediana) divide os dados em duas partes iguais, com 50% dos valores abaixo dele e 50% acima.\n",
    "\n",
    "3. Desvio padrão:\n",
    "O desvio padrão é uma medida que indica o quão dispersos os valores de um conjunto de dados estão em relação à média. Ele mostra a variabilidade dos dados em relação ao valor médio. Um desvio padrão maior indica que os dados estão mais espalhados, enquanto um desvio padrão menor indica que os dados estão mais próximos da média.\n",
    "\n",
    "4. Variância:\n",
    "A variância é outra medida de dispersão que indica o quão distantes os valores de um conjunto de dados estão da média. Ela é calculada como a média dos quadrados das diferenças entre cada valor e a média. A variância fornece uma medida da dispersão total dos dados, independentemente de serem maiores ou menores que a média.\n",
    "\n",
    "Essas medidas são amplamente utilizadas na estatística para resumir e analisar conjuntos de dados. Elas fornecem informações valiosas sobre a distribuição, a variabilidade e a posição dos dados, permitindo uma compreensão mais completa dos mesmos."
   ]
  }
 ],
 "metadata": {
  "kernelspec": {
   "display_name": "Python 3",
   "language": "python",
   "name": "python3"
  },
  "language_info": {
   "codemirror_mode": {
    "name": "ipython",
    "version": 3
   },
   "file_extension": ".py",
   "mimetype": "text/x-python",
   "name": "python",
   "nbconvert_exporter": "python",
   "pygments_lexer": "ipython3",
   "version": "3.11.5"
  },
  "orig_nbformat": 4
 },
 "nbformat": 4,
 "nbformat_minor": 2
}
